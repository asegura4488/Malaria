{
 "cells": [
  {
   "cell_type": "code",
   "execution_count": 1,
   "id": "982cda77",
   "metadata": {},
   "outputs": [],
   "source": [
    "import numpy as np\n",
    "import matplotlib.pyplot as plt\n",
    "import pandas as pd\n",
    "import seaborn as sns\n",
    "\n",
    "# ML tools\n",
    "from sklearn.preprocessing import StandardScaler\n",
    "from sklearn.decomposition import PCA\n",
    "from sklearn import svm\n",
    "from sklearn.model_selection import train_test_split\n",
    "from sklearn.metrics import classification_report, confusion_matrix"
   ]
  },
  {
   "cell_type": "code",
   "execution_count": 2,
   "id": "ee23ec3f",
   "metadata": {},
   "outputs": [],
   "source": [
    "# Function to extract elements from 'centroid' list and assign to new columns\n",
    "def extract_centroid_elements(sheet):\n",
    "    sheet['L'] = sheet['centroid'].apply(lambda x: eval(x)[0])\n",
    "    sheet['A'] = sheet['centroid'].apply(lambda x: eval(x)[1])\n",
    "    sheet['B'] = sheet['centroid'].apply(lambda x: eval(x)[2])\n",
    "    sheet['C'] = sheet['centroid'].apply(lambda x: eval(x)[3])\n",
    "    sheet['H'] = sheet['centroid'].apply(lambda x: eval(x)[4])\n",
    "    return sheet"
   ]
  },
  {
   "cell_type": "code",
   "execution_count": 5,
   "id": "766447a8",
   "metadata": {},
   "outputs": [],
   "source": [
    "excel_data = pd.ExcelFile('Data/kmeans_data_3822.xlsx')"
   ]
  },
  {
   "cell_type": "code",
   "execution_count": 6,
   "id": "f71fe1ef",
   "metadata": {},
   "outputs": [
    {
     "data": {
      "text/html": [
       "<div>\n",
       "<style scoped>\n",
       "    .dataframe tbody tr th:only-of-type {\n",
       "        vertical-align: middle;\n",
       "    }\n",
       "\n",
       "    .dataframe tbody tr th {\n",
       "        vertical-align: top;\n",
       "    }\n",
       "\n",
       "    .dataframe thead th {\n",
       "        text-align: right;\n",
       "    }\n",
       "</style>\n",
       "<table border=\"1\" class=\"dataframe\">\n",
       "  <thead>\n",
       "    <tr style=\"text-align: right;\">\n",
       "      <th></th>\n",
       "      <th>image</th>\n",
       "      <th>centroid</th>\n",
       "      <th>sigma</th>\n",
       "      <th>sigma2</th>\n",
       "      <th>min</th>\n",
       "      <th>max</th>\n",
       "      <th>L</th>\n",
       "      <th>A</th>\n",
       "      <th>B</th>\n",
       "      <th>C</th>\n",
       "      <th>H</th>\n",
       "      <th>class</th>\n",
       "    </tr>\n",
       "  </thead>\n",
       "  <tbody>\n",
       "    <tr>\n",
       "      <th>0</th>\n",
       "      <td>000_seg_000</td>\n",
       "      <td>[60.208187103271484, 28.140544891357422, -34.2...</td>\n",
       "      <td>[5.0042948722839355, 4.205726623535156, 5.6123...</td>\n",
       "      <td>[10.008589744567871, 8.411453247070312, 11.224...</td>\n",
       "      <td>[49.49547576904297, 16.729331970214844, -48.23...</td>\n",
       "      <td>[71.74944305419922, 38.00669479370117, -22.794...</td>\n",
       "      <td>60.208187</td>\n",
       "      <td>28.140545</td>\n",
       "      <td>-34.262962</td>\n",
       "      <td>28.861353</td>\n",
       "      <td>-34.970840</td>\n",
       "      <td>Crom</td>\n",
       "    </tr>\n",
       "    <tr>\n",
       "      <th>1</th>\n",
       "      <td>000_seg_001</td>\n",
       "      <td>[72.4141616821289, 22.98868179321289, -21.5618...</td>\n",
       "      <td>[5.330959796905518, 4.326024055480957, 5.38736...</td>\n",
       "      <td>[10.661919593811035, 8.652048110961914, 10.774...</td>\n",
       "      <td>[57.53477096557617, 15.112419128417969, -39.29...</td>\n",
       "      <td>[82.566162109375, 34.55077362060547, -12.07593...</td>\n",
       "      <td>72.414162</td>\n",
       "      <td>22.988682</td>\n",
       "      <td>-21.561890</td>\n",
       "      <td>23.672592</td>\n",
       "      <td>-22.186670</td>\n",
       "      <td>Crom</td>\n",
       "    </tr>\n",
       "    <tr>\n",
       "      <th>2</th>\n",
       "      <td>000_seg_002</td>\n",
       "      <td>[62.619171142578125, 32.95601272583008, -40.80...</td>\n",
       "      <td>[5.788082122802734, 4.9921770095825195, 8.2300...</td>\n",
       "      <td>[11.576164245605469, 9.984354019165039, 16.460...</td>\n",
       "      <td>[52.91889572143555, 22.912691116333008, -55.12...</td>\n",
       "      <td>[74.51887512207031, 41.78726577758789, -25.140...</td>\n",
       "      <td>62.619171</td>\n",
       "      <td>32.956013</td>\n",
       "      <td>-40.800350</td>\n",
       "      <td>33.150524</td>\n",
       "      <td>-40.566620</td>\n",
       "      <td>Crom</td>\n",
       "    </tr>\n",
       "    <tr>\n",
       "      <th>3</th>\n",
       "      <td>000_seg_003</td>\n",
       "      <td>[65.55522155761719, 31.18229103088379, -38.181...</td>\n",
       "      <td>[7.1354875564575195, 6.389214515686035, 9.1396...</td>\n",
       "      <td>[14.270975112915039, 12.77842903137207, 18.279...</td>\n",
       "      <td>[47.45114517211914, 20.78822135925293, -68.124...</td>\n",
       "      <td>[79.556884765625, 48.55148696899414, -24.11073...</td>\n",
       "      <td>65.555222</td>\n",
       "      <td>31.182291</td>\n",
       "      <td>-38.181442</td>\n",
       "      <td>32.307858</td>\n",
       "      <td>-39.447372</td>\n",
       "      <td>Crom</td>\n",
       "    </tr>\n",
       "    <tr>\n",
       "      <th>4</th>\n",
       "      <td>000_seg_004</td>\n",
       "      <td>[70.11981201171875, 30.57295036315918, -31.789...</td>\n",
       "      <td>[4.7794365882873535, 5.185969352722168, 6.1621...</td>\n",
       "      <td>[9.558873176574707, 10.371938705444336, 12.324...</td>\n",
       "      <td>[61.77290344238281, 20.698461532592773, -44.18...</td>\n",
       "      <td>[79.66087341308594, 42.16238021850586, -21.208...</td>\n",
       "      <td>70.119812</td>\n",
       "      <td>30.572950</td>\n",
       "      <td>-31.789845</td>\n",
       "      <td>31.114786</td>\n",
       "      <td>-32.575016</td>\n",
       "      <td>Crom</td>\n",
       "    </tr>\n",
       "  </tbody>\n",
       "</table>\n",
       "</div>"
      ],
      "text/plain": [
       "         image                                           centroid  \\\n",
       "0  000_seg_000  [60.208187103271484, 28.140544891357422, -34.2...   \n",
       "1  000_seg_001  [72.4141616821289, 22.98868179321289, -21.5618...   \n",
       "2  000_seg_002  [62.619171142578125, 32.95601272583008, -40.80...   \n",
       "3  000_seg_003  [65.55522155761719, 31.18229103088379, -38.181...   \n",
       "4  000_seg_004  [70.11981201171875, 30.57295036315918, -31.789...   \n",
       "\n",
       "                                               sigma  \\\n",
       "0  [5.0042948722839355, 4.205726623535156, 5.6123...   \n",
       "1  [5.330959796905518, 4.326024055480957, 5.38736...   \n",
       "2  [5.788082122802734, 4.9921770095825195, 8.2300...   \n",
       "3  [7.1354875564575195, 6.389214515686035, 9.1396...   \n",
       "4  [4.7794365882873535, 5.185969352722168, 6.1621...   \n",
       "\n",
       "                                              sigma2  \\\n",
       "0  [10.008589744567871, 8.411453247070312, 11.224...   \n",
       "1  [10.661919593811035, 8.652048110961914, 10.774...   \n",
       "2  [11.576164245605469, 9.984354019165039, 16.460...   \n",
       "3  [14.270975112915039, 12.77842903137207, 18.279...   \n",
       "4  [9.558873176574707, 10.371938705444336, 12.324...   \n",
       "\n",
       "                                                 min  \\\n",
       "0  [49.49547576904297, 16.729331970214844, -48.23...   \n",
       "1  [57.53477096557617, 15.112419128417969, -39.29...   \n",
       "2  [52.91889572143555, 22.912691116333008, -55.12...   \n",
       "3  [47.45114517211914, 20.78822135925293, -68.124...   \n",
       "4  [61.77290344238281, 20.698461532592773, -44.18...   \n",
       "\n",
       "                                                 max          L          A  \\\n",
       "0  [71.74944305419922, 38.00669479370117, -22.794...  60.208187  28.140545   \n",
       "1  [82.566162109375, 34.55077362060547, -12.07593...  72.414162  22.988682   \n",
       "2  [74.51887512207031, 41.78726577758789, -25.140...  62.619171  32.956013   \n",
       "3  [79.556884765625, 48.55148696899414, -24.11073...  65.555222  31.182291   \n",
       "4  [79.66087341308594, 42.16238021850586, -21.208...  70.119812  30.572950   \n",
       "\n",
       "           B          C          H class  \n",
       "0 -34.262962  28.861353 -34.970840  Crom  \n",
       "1 -21.561890  23.672592 -22.186670  Crom  \n",
       "2 -40.800350  33.150524 -40.566620  Crom  \n",
       "3 -38.181442  32.307858 -39.447372  Crom  \n",
       "4 -31.789845  31.114786 -32.575016  Crom  "
      ]
     },
     "execution_count": 6,
     "metadata": {},
     "output_type": "execute_result"
    }
   ],
   "source": [
    "# Load each sheet and extract centroid elements\n",
    "crom_sheet = excel_data.parse('crom')\n",
    "crom_sheet = extract_centroid_elements(crom_sheet)\n",
    "crom_sheet['class'] = 'Crom'\n",
    "\n",
    "cito_sheet = excel_data.parse('cito')\n",
    "cito_sheet = extract_centroid_elements(cito_sheet)\n",
    "cito_sheet['class'] = 'Cito'\n",
    "\n",
    "glob_sheet = excel_data.parse('glob')\n",
    "glob_sheet = extract_centroid_elements(glob_sheet)\n",
    "glob_sheet['class'] = 'Glob'\n",
    "\n",
    "# Combine the sheets into one DataFrame\n",
    "combined_df = pd.concat([crom_sheet, cito_sheet, glob_sheet], ignore_index=True)\n",
    "\n",
    "combined_df.head(5)"
   ]
  },
  {
   "cell_type": "code",
   "execution_count": null,
   "id": "842b1e3d",
   "metadata": {},
   "outputs": [
    {
     "data": {
      "text/plain": [
       "<seaborn.axisgrid.PairGrid at 0x700df50afbd0>"
      ]
     },
     "execution_count": 19,
     "metadata": {},
     "output_type": "execute_result"
    }
   ],
   "source": [
    "#sns.scatterplot(x='L',y='A',data=combined_df,hue='class')\n",
    "sns.pairplot(combined_df,hue='class', palette='Set1', diag_kind='kde')"
   ]
  },
  {
   "cell_type": "code",
   "execution_count": 8,
   "id": "2bb360d3",
   "metadata": {},
   "outputs": [],
   "source": [
    "# Usamos para el entrenamiento\n",
    "features = ['L', 'A','B','C','H']\n",
    "X = combined_df[features]\n",
    "y = combined_df['class']"
   ]
  },
  {
   "cell_type": "code",
   "execution_count": 9,
   "id": "2aa717bb",
   "metadata": {},
   "outputs": [
    {
     "data": {
      "text/html": [
       "<div>\n",
       "<style scoped>\n",
       "    .dataframe tbody tr th:only-of-type {\n",
       "        vertical-align: middle;\n",
       "    }\n",
       "\n",
       "    .dataframe tbody tr th {\n",
       "        vertical-align: top;\n",
       "    }\n",
       "\n",
       "    .dataframe thead th {\n",
       "        text-align: right;\n",
       "    }\n",
       "</style>\n",
       "<table border=\"1\" class=\"dataframe\">\n",
       "  <thead>\n",
       "    <tr style=\"text-align: right;\">\n",
       "      <th></th>\n",
       "      <th>L</th>\n",
       "      <th>A</th>\n",
       "      <th>B</th>\n",
       "      <th>C</th>\n",
       "      <th>H</th>\n",
       "    </tr>\n",
       "  </thead>\n",
       "  <tbody>\n",
       "    <tr>\n",
       "      <th>L</th>\n",
       "      <td>1.000000</td>\n",
       "      <td>-0.904010</td>\n",
       "      <td>0.942039</td>\n",
       "      <td>-0.784981</td>\n",
       "      <td>0.879180</td>\n",
       "    </tr>\n",
       "    <tr>\n",
       "      <th>A</th>\n",
       "      <td>-0.904010</td>\n",
       "      <td>1.000000</td>\n",
       "      <td>-0.920098</td>\n",
       "      <td>0.830792</td>\n",
       "      <td>-0.868545</td>\n",
       "    </tr>\n",
       "    <tr>\n",
       "      <th>B</th>\n",
       "      <td>0.942039</td>\n",
       "      <td>-0.920098</td>\n",
       "      <td>1.000000</td>\n",
       "      <td>-0.824921</td>\n",
       "      <td>0.941494</td>\n",
       "    </tr>\n",
       "    <tr>\n",
       "      <th>C</th>\n",
       "      <td>-0.784981</td>\n",
       "      <td>0.830792</td>\n",
       "      <td>-0.824921</td>\n",
       "      <td>1.000000</td>\n",
       "      <td>-0.768653</td>\n",
       "    </tr>\n",
       "    <tr>\n",
       "      <th>H</th>\n",
       "      <td>0.879180</td>\n",
       "      <td>-0.868545</td>\n",
       "      <td>0.941494</td>\n",
       "      <td>-0.768653</td>\n",
       "      <td>1.000000</td>\n",
       "    </tr>\n",
       "  </tbody>\n",
       "</table>\n",
       "</div>"
      ],
      "text/plain": [
       "          L         A         B         C         H\n",
       "L  1.000000 -0.904010  0.942039 -0.784981  0.879180\n",
       "A -0.904010  1.000000 -0.920098  0.830792 -0.868545\n",
       "B  0.942039 -0.920098  1.000000 -0.824921  0.941494\n",
       "C -0.784981  0.830792 -0.824921  1.000000 -0.768653\n",
       "H  0.879180 -0.868545  0.941494 -0.768653  1.000000"
      ]
     },
     "execution_count": 9,
     "metadata": {},
     "output_type": "execute_result"
    }
   ],
   "source": [
    "# Veamos las correlaciones\n",
    "X.corr()"
   ]
  },
  {
   "cell_type": "code",
   "execution_count": 10,
   "id": "feda8e5b",
   "metadata": {},
   "outputs": [],
   "source": [
    "# Standardize the features\n",
    "scaler = StandardScaler()\n",
    "X_scaled = scaler.fit_transform(X)"
   ]
  },
  {
   "cell_type": "code",
   "execution_count": 11,
   "id": "41be7902",
   "metadata": {},
   "outputs": [],
   "source": [
    "# Split the standardized data into training and testing sets\n",
    "X_train_scaled, X_test_scaled, y_train, y_test = train_test_split(X_scaled, y, test_size=0.3, random_state=42)"
   ]
  },
  {
   "cell_type": "code",
   "execution_count": 12,
   "id": "ca09c2f3",
   "metadata": {},
   "outputs": [
    {
     "data": {
      "text/html": [
       "<style>#sk-container-id-1 {color: black;}#sk-container-id-1 pre{padding: 0;}#sk-container-id-1 div.sk-toggleable {background-color: white;}#sk-container-id-1 label.sk-toggleable__label {cursor: pointer;display: block;width: 100%;margin-bottom: 0;padding: 0.3em;box-sizing: border-box;text-align: center;}#sk-container-id-1 label.sk-toggleable__label-arrow:before {content: \"▸\";float: left;margin-right: 0.25em;color: #696969;}#sk-container-id-1 label.sk-toggleable__label-arrow:hover:before {color: black;}#sk-container-id-1 div.sk-estimator:hover label.sk-toggleable__label-arrow:before {color: black;}#sk-container-id-1 div.sk-toggleable__content {max-height: 0;max-width: 0;overflow: hidden;text-align: left;background-color: #f0f8ff;}#sk-container-id-1 div.sk-toggleable__content pre {margin: 0.2em;color: black;border-radius: 0.25em;background-color: #f0f8ff;}#sk-container-id-1 input.sk-toggleable__control:checked~div.sk-toggleable__content {max-height: 200px;max-width: 100%;overflow: auto;}#sk-container-id-1 input.sk-toggleable__control:checked~label.sk-toggleable__label-arrow:before {content: \"▾\";}#sk-container-id-1 div.sk-estimator input.sk-toggleable__control:checked~label.sk-toggleable__label {background-color: #d4ebff;}#sk-container-id-1 div.sk-label input.sk-toggleable__control:checked~label.sk-toggleable__label {background-color: #d4ebff;}#sk-container-id-1 input.sk-hidden--visually {border: 0;clip: rect(1px 1px 1px 1px);clip: rect(1px, 1px, 1px, 1px);height: 1px;margin: -1px;overflow: hidden;padding: 0;position: absolute;width: 1px;}#sk-container-id-1 div.sk-estimator {font-family: monospace;background-color: #f0f8ff;border: 1px dotted black;border-radius: 0.25em;box-sizing: border-box;margin-bottom: 0.5em;}#sk-container-id-1 div.sk-estimator:hover {background-color: #d4ebff;}#sk-container-id-1 div.sk-parallel-item::after {content: \"\";width: 100%;border-bottom: 1px solid gray;flex-grow: 1;}#sk-container-id-1 div.sk-label:hover label.sk-toggleable__label {background-color: #d4ebff;}#sk-container-id-1 div.sk-serial::before {content: \"\";position: absolute;border-left: 1px solid gray;box-sizing: border-box;top: 0;bottom: 0;left: 50%;z-index: 0;}#sk-container-id-1 div.sk-serial {display: flex;flex-direction: column;align-items: center;background-color: white;padding-right: 0.2em;padding-left: 0.2em;position: relative;}#sk-container-id-1 div.sk-item {position: relative;z-index: 1;}#sk-container-id-1 div.sk-parallel {display: flex;align-items: stretch;justify-content: center;background-color: white;position: relative;}#sk-container-id-1 div.sk-item::before, #sk-container-id-1 div.sk-parallel-item::before {content: \"\";position: absolute;border-left: 1px solid gray;box-sizing: border-box;top: 0;bottom: 0;left: 50%;z-index: -1;}#sk-container-id-1 div.sk-parallel-item {display: flex;flex-direction: column;z-index: 1;position: relative;background-color: white;}#sk-container-id-1 div.sk-parallel-item:first-child::after {align-self: flex-end;width: 50%;}#sk-container-id-1 div.sk-parallel-item:last-child::after {align-self: flex-start;width: 50%;}#sk-container-id-1 div.sk-parallel-item:only-child::after {width: 0;}#sk-container-id-1 div.sk-dashed-wrapped {border: 1px dashed gray;margin: 0 0.4em 0.5em 0.4em;box-sizing: border-box;padding-bottom: 0.4em;background-color: white;}#sk-container-id-1 div.sk-label label {font-family: monospace;font-weight: bold;display: inline-block;line-height: 1.2em;}#sk-container-id-1 div.sk-label-container {text-align: center;}#sk-container-id-1 div.sk-container {/* jupyter's `normalize.less` sets `[hidden] { display: none; }` but bootstrap.min.css set `[hidden] { display: none !important; }` so we also need the `!important` here to be able to override the default hidden behavior on the sphinx rendered scikit-learn.org. See: https://github.com/scikit-learn/scikit-learn/issues/21755 */display: inline-block !important;position: relative;}#sk-container-id-1 div.sk-text-repr-fallback {display: none;}</style><div id=\"sk-container-id-1\" class=\"sk-top-container\"><div class=\"sk-text-repr-fallback\"><pre>SVC()</pre><b>In a Jupyter environment, please rerun this cell to show the HTML representation or trust the notebook. <br />On GitHub, the HTML representation is unable to render, please try loading this page with nbviewer.org.</b></div><div class=\"sk-container\" hidden><div class=\"sk-item\"><div class=\"sk-estimator sk-toggleable\"><input class=\"sk-toggleable__control sk-hidden--visually\" id=\"sk-estimator-id-1\" type=\"checkbox\" checked><label for=\"sk-estimator-id-1\" class=\"sk-toggleable__label sk-toggleable__label-arrow\">SVC</label><div class=\"sk-toggleable__content\"><pre>SVC()</pre></div></div></div></div></div>"
      ],
      "text/plain": [
       "SVC()"
      ]
     },
     "execution_count": 12,
     "metadata": {},
     "output_type": "execute_result"
    }
   ],
   "source": [
    "# Create and train the Support Vector Machine model on standardized data\n",
    "svm_model_scaled = svm.SVC(kernel='rbf') # Kernel polinomial\n",
    "#svm_model_scaled = svm.SVC(kernel='linear')\n",
    "svm_model_scaled.fit(X_train_scaled, y_train)"
   ]
  },
  {
   "cell_type": "code",
   "execution_count": 13,
   "id": "c5ce7b75",
   "metadata": {},
   "outputs": [],
   "source": [
    "# Make predictions\n",
    "y_pred_scaled = svm_model_scaled.predict(X_test_scaled)\n",
    "#y_pred_scaled"
   ]
  },
  {
   "cell_type": "code",
   "execution_count": 14,
   "id": "06b11cef",
   "metadata": {},
   "outputs": [
    {
     "data": {
      "text/html": [
       "<div>\n",
       "<style scoped>\n",
       "    .dataframe tbody tr th:only-of-type {\n",
       "        vertical-align: middle;\n",
       "    }\n",
       "\n",
       "    .dataframe tbody tr th {\n",
       "        vertical-align: top;\n",
       "    }\n",
       "\n",
       "    .dataframe thead th {\n",
       "        text-align: right;\n",
       "    }\n",
       "</style>\n",
       "<table border=\"1\" class=\"dataframe\">\n",
       "  <thead>\n",
       "    <tr style=\"text-align: right;\">\n",
       "      <th></th>\n",
       "      <th>precision</th>\n",
       "      <th>recall</th>\n",
       "      <th>f1-score</th>\n",
       "      <th>support</th>\n",
       "    </tr>\n",
       "  </thead>\n",
       "  <tbody>\n",
       "    <tr>\n",
       "      <th>Cito</th>\n",
       "      <td>0.874410</td>\n",
       "      <td>0.801732</td>\n",
       "      <td>0.836495</td>\n",
       "      <td>1155.000000</td>\n",
       "    </tr>\n",
       "    <tr>\n",
       "      <th>Crom</th>\n",
       "      <td>0.981233</td>\n",
       "      <td>0.948187</td>\n",
       "      <td>0.964427</td>\n",
       "      <td>1158.000000</td>\n",
       "    </tr>\n",
       "    <tr>\n",
       "      <th>Glob</th>\n",
       "      <td>0.835182</td>\n",
       "      <td>0.935226</td>\n",
       "      <td>0.882378</td>\n",
       "      <td>1127.000000</td>\n",
       "    </tr>\n",
       "    <tr>\n",
       "      <th>accuracy</th>\n",
       "      <td>0.894767</td>\n",
       "      <td>0.894767</td>\n",
       "      <td>0.894767</td>\n",
       "      <td>0.894767</td>\n",
       "    </tr>\n",
       "    <tr>\n",
       "      <th>macro avg</th>\n",
       "      <td>0.896942</td>\n",
       "      <td>0.895048</td>\n",
       "      <td>0.894433</td>\n",
       "      <td>3440.000000</td>\n",
       "    </tr>\n",
       "    <tr>\n",
       "      <th>weighted avg</th>\n",
       "      <td>0.897518</td>\n",
       "      <td>0.894767</td>\n",
       "      <td>0.894592</td>\n",
       "      <td>3440.000000</td>\n",
       "    </tr>\n",
       "  </tbody>\n",
       "</table>\n",
       "</div>"
      ],
      "text/plain": [
       "              precision    recall  f1-score      support\n",
       "Cito           0.874410  0.801732  0.836495  1155.000000\n",
       "Crom           0.981233  0.948187  0.964427  1158.000000\n",
       "Glob           0.835182  0.935226  0.882378  1127.000000\n",
       "accuracy       0.894767  0.894767  0.894767     0.894767\n",
       "macro avg      0.896942  0.895048  0.894433  3440.000000\n",
       "weighted avg   0.897518  0.894767  0.894592  3440.000000"
      ]
     },
     "execution_count": 14,
     "metadata": {},
     "output_type": "execute_result"
    }
   ],
   "source": [
    "# Generate a classification report\n",
    "report_scaled = classification_report(y_test, y_pred_scaled, output_dict=True)\n",
    "pd.DataFrame(report_scaled).transpose()"
   ]
  },
  {
   "cell_type": "code",
   "execution_count": 15,
   "id": "ab4d2ab5",
   "metadata": {},
   "outputs": [
    {
     "data": {
      "text/plain": [
       "array([[1098,   60,    0],\n",
       "       [  21,  926,  208],\n",
       "       [   0,   73, 1054]])"
      ]
     },
     "execution_count": 15,
     "metadata": {},
     "output_type": "execute_result"
    }
   ],
   "source": [
    "# Generate the confusion matrix\n",
    "conf_matrix_scaled = confusion_matrix(y_test, y_pred_scaled, labels=['Crom', 'Cito', 'Glob'])\n",
    "conf_matrix_scaled"
   ]
  },
  {
   "cell_type": "code",
   "execution_count": 16,
   "id": "bdb30a8b",
   "metadata": {},
   "outputs": [
    {
     "data": {
      "text/plain": [
       "Text(0.5, 1.0, 'Confusion Matrix (Standardized)')"
      ]
     },
     "execution_count": 16,
     "metadata": {},
     "output_type": "execute_result"
    },
    {
     "data": {
      "image/png": "[encoded data removed]",
      "text/plain": [
       "<Figure size 500x500 with 2 Axes>"
      ]
     },
     "metadata": {},
     "output_type": "display_data"
    }
   ],
   "source": [
    "# Plot the confusion matrix\n",
    "plt.figure(figsize=(5, 5))\n",
    "sns.heatmap(conf_matrix_scaled, annot=True, fmt='d', cmap='Blues', xticklabels=['Crom', 'Cito', 'Glob'], yticklabels=['Crom', 'Cito', 'Glob'])\n",
    "plt.xlabel('Predicted')\n",
    "plt.ylabel('Actual')\n",
    "plt.title('Confusion Matrix (Standardized)')"
   ]
  },
  {
   "cell_type": "code",
   "execution_count": 17,
   "id": "794fe935",
   "metadata": {},
   "outputs": [],
   "source": [
    "def Predictor(data):\n",
    "    \n",
    "    data = np.array([data])\n",
    "    # Estandarizamos\n",
    "    data_scaled = scaler.transform(data)\n",
    "    #print(data_scaled)\n",
    "    \n",
    "    prediction = svm_model_scaled.predict(data_scaled)\n",
    "    \n",
    "    return prediction[0]"
   ]
  },
  {
   "cell_type": "code",
   "execution_count": 18,
   "id": "181e55e4",
   "metadata": {},
   "outputs": [
    {
     "name": "stderr",
     "output_type": "stream",
     "text": [
      "/home/alejandro/anaconda3/lib/python3.11/site-packages/sklearn/base.py:464: UserWarning: X does not have valid feature names, but StandardScaler was fitted with feature names\n",
      "  warnings.warn(\n"
     ]
    },
    {
     "data": {
      "text/plain": [
       "'Crom'"
      ]
     },
     "execution_count": 18,
     "metadata": {},
     "output_type": "execute_result"
    }
   ],
   "source": [
    "Predictor(X.iloc[9])"
   ]
  },
  {
   "cell_type": "code",
   "execution_count": null,
   "id": "56dcd4ca",
   "metadata": {},
   "outputs": [],
   "source": []
  },
  {
   "cell_type": "code",
   "execution_count": null,
   "id": "480b620a",
   "metadata": {},
   "outputs": [],
   "source": []
  },
  {
   "cell_type": "code",
   "execution_count": null,
   "id": "dffd49ca",
   "metadata": {},
   "outputs": [],
   "source": []
  },
  {
   "cell_type": "code",
   "execution_count": null,
   "id": "f76762f0",
   "metadata": {},
   "outputs": [],
   "source": []
  }
 ],
 "metadata": {
  "kernelspec": {
   "display_name": "Python 3 (ipykernel)",
   "language": "python",
   "name": "python3"
  },
  "language_info": {
   "codemirror_mode": {
    "name": "ipython",
    "version": 3
   },
   "file_extension": ".py",
   "mimetype": "text/x-python",
   "name": "python",
   "nbconvert_exporter": "python",
   "pygments_lexer": "ipython3",
   "version": "3.11.5"
  }
 },
 "nbformat": 4,
 "nbformat_minor": 5
}
