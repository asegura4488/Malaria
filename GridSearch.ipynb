{
  "cells": [
    {
      "cell_type": "markdown",
      "metadata": {
        "id": "5BFwl_iaUj_I"
      },
      "source": [
        "# TAREA 1: Métodos de aprendizaje conjunto."
      ]
    },
    {
      "cell_type": "markdown",
      "metadata": {
        "id": "N--sRVFc6JpH"
      },
      "source": [
        "NOMBRES:\n",
        "\n",
        "Santiago Gómez Arias\n",
        "\n",
        "Miguel Castro\n",
        "\n",
        "Juan Carlos Castillo"
      ]
    },
    {
      "cell_type": "markdown",
      "metadata": {
        "id": "ac79xDFmUj_K"
      },
      "source": [
        "## 1. Preguntas conceptuales"
      ]
    },
    {
      "cell_type": "markdown",
      "metadata": {
        "id": "NK8NhErzUj_K"
      },
      "source": [
        "### 1.1. ¿Si un algoritmo `gradient boosting ensemble` muestra `sobreajuste`, ¿debería aumentar o disminuir la tasa de aprendizaje? Argumente su respuesta."
      ]
    },
    {
      "cell_type": "markdown",
      "metadata": {
        "id": "AULA7UykUj_K"
      },
      "source": [
        "**Respuesta: Se debería bajar la tasa de aprendizaje, ya que una tasa de aprendizaje más baja reduce la velocidad con la que el modelo se ajusta a los datos de entrenamiento**"
      ]
    },
    {
      "cell_type": "markdown",
      "metadata": {
        "id": "PUG8PyfkUj_L"
      },
      "source": [
        "### 1.2. Si ha entrenado 5 `modelos diferentes` de clasificación con exactamente los mismos datos de entrenamiento y todos ellos alcanzan una exactitud (`accuracy`) del $95\\%$, ¿existe alguna posibilidad de que pueda combinar estos modelos para obtener mejores resultados? Si es así, ¿cómo? Si no, ¿por qué?"
      ]
    },
    {
      "cell_type": "markdown",
      "metadata": {
        "id": "2Nm-EGZVUj_L"
      },
      "source": [
        "**Respuesta: Sí es posible, ya que estadísticamente es más probable obtener una elección correcta al usar varios votantes que solo uno.**"
      ]
    },
    {
      "cell_type": "markdown",
      "metadata": {
        "id": "YNVNY1S8Uj_L"
      },
      "source": [
        "### 1.3. Suponga que en el escenario de la pregunta `1.2` se combinan los `5` clasificadores base mediante el método de `voto mayoritario duro`. Calcule el error del clasificador conjunto."
      ]
    },
    {
      "cell_type": "markdown",
      "metadata": {
        "id": "R3RhUZ9_Qjeh"
      },
      "source": [
        " Como el accuracy de los clasificadores es del 95%, los errores son del 5%. Luego como usaremos el voto mayoritario duro y tenemos 5 clasificadores, aquí obtendremos un error cuando obtengamos un error en tres o más casos. Por lo que la probabilidad de equivocarse sería\n",
        "\n",
        " $ E = \\displaystyle\\sum_{k=3}^5 \\binom{5}{k}0.05^k(1-0.05)^{5-k}$"
      ]
    },
    {
      "cell_type": "code",
      "execution_count": null,
      "metadata": {
        "colab": {
          "base_uri": "https://localhost:8080/"
        },
        "id": "rWjWl5J4QTbh",
        "outputId": "03f4572e-be8d-4a4a-a1ab-c7cca914ddcf"
      },
      "outputs": [
        {
          "name": "stdout",
          "output_type": "stream",
          "text": [
            "0.116 %\n"
          ]
        }
      ],
      "source": [
        "# Calculamos la probabilidad de error del ensemble\n",
        "import scipy.stats as stats\n",
        "error_ensemble = sum(stats.binom.pmf(k, 5, 0.05) for k in range(3, 5 + 1))\n",
        "print(round(error_ensemble,5)*100,\"%\")"
      ]
    },
    {
      "cell_type": "markdown",
      "metadata": {
        "id": "gsw6QuciUj_L"
      },
      "source": [
        "**Respuesta: El error es de 0.116%**"
      ]
    },
    {
      "cell_type": "markdown",
      "metadata": {
        "id": "HCYR8LssUj_M"
      },
      "source": [
        "### 1.4. ¿Si un algoritmo `Adaboost` muestra `subajuste`, ¿qué hiperparámetros debería ajustar y cómo? Argumente su respuesta."
      ]
    },
    {
      "cell_type": "markdown",
      "metadata": {
        "id": "m2hYelia6JpW"
      },
      "source": [
        "Los hiperparámetros relacionados con el Adaboost son el estimador, la tasa de aprendizaje y el número de estimadores.  Sin embargo, el estimador no participa directamente en que tanto un modelo aprende de sus datos de entrenamiento. En este caso los parámetros que se deberían ajustar con la tasa de aprendizaje y el número de estimadores. La tasa de aprendizaje se debe incrementar para que los pasos con el que se cambian los parámetros del modelos no sean tan pequeños y aprenda un poco más rápido; y el número de estimadores también debe incrementarse para que haya una mayor de cantidad de pasos para que se ajuste más a los datos. En otra palabras estaríamos graduando el número de pasos y la longitud de esos pasos para llegar al ajuste deseado."
      ]
    },
    {
      "cell_type": "markdown",
      "metadata": {
        "id": "omajRCCaUj_M"
      },
      "source": [
        "## 2. Ejercicio(s) práctico(s)"
      ]
    },
    {
      "cell_type": "markdown",
      "metadata": {
        "id": "pfoMVYN5Uj_M"
      },
      "source": [
        "El conjunto de datos `mnist_784`, contiene 70.000 pequeñas imágenes de dígitos escritos a mano por estudiantes de secundaria y empleados de la Oficina del Censo de EE.UU. Es posible acceder a este dataset medinte las siguientes instrucciones:"
      ]
    },
    {
      "cell_type": "code",
      "execution_count": null,
      "metadata": {
        "colab": {
          "base_uri": "https://localhost:8080/",
          "height": 480
        },
        "id": "Sbrs4g8HUj_M",
        "outputId": "355c78ee-1c17-4665-80f2-909ad1d8b078"
      },
      "outputs": [
        {
          "name": "stdout",
          "output_type": "stream",
          "text": [
            "CPU times: total: 3.95 s\n",
            "Wall time: 9.42 s\n"
          ]
        },
        {
          "data": {
            "text/html": [
              "<div>\n",
              "<style scoped>\n",
              "    .dataframe tbody tr th:only-of-type {\n",
              "        vertical-align: middle;\n",
              "    }\n",
              "\n",
              "    .dataframe tbody tr th {\n",
              "        vertical-align: top;\n",
              "    }\n",
              "\n",
              "    .dataframe thead th {\n",
              "        text-align: right;\n",
              "    }\n",
              "</style>\n",
              "<table border=\"1\" class=\"dataframe\">\n",
              "  <thead>\n",
              "    <tr style=\"text-align: right;\">\n",
              "      <th></th>\n",
              "      <th>0</th>\n",
              "      <th>1</th>\n",
              "      <th>2</th>\n",
              "      <th>3</th>\n",
              "      <th>4</th>\n",
              "      <th>5</th>\n",
              "      <th>6</th>\n",
              "      <th>7</th>\n",
              "      <th>8</th>\n",
              "      <th>9</th>\n",
              "      <th>...</th>\n",
              "      <th>774</th>\n",
              "      <th>775</th>\n",
              "      <th>776</th>\n",
              "      <th>777</th>\n",
              "      <th>778</th>\n",
              "      <th>779</th>\n",
              "      <th>780</th>\n",
              "      <th>781</th>\n",
              "      <th>782</th>\n",
              "      <th>783</th>\n",
              "    </tr>\n",
              "  </thead>\n",
              "  <tbody>\n",
              "    <tr>\n",
              "      <th>0</th>\n",
              "      <td>0</td>\n",
              "      <td>0</td>\n",
              "      <td>0</td>\n",
              "      <td>0</td>\n",
              "      <td>0</td>\n",
              "      <td>0</td>\n",
              "      <td>0</td>\n",
              "      <td>0</td>\n",
              "      <td>0</td>\n",
              "      <td>0</td>\n",
              "      <td>...</td>\n",
              "      <td>0</td>\n",
              "      <td>0</td>\n",
              "      <td>0</td>\n",
              "      <td>0</td>\n",
              "      <td>0</td>\n",
              "      <td>0</td>\n",
              "      <td>0</td>\n",
              "      <td>0</td>\n",
              "      <td>0</td>\n",
              "      <td>0</td>\n",
              "    </tr>\n",
              "    <tr>\n",
              "      <th>1</th>\n",
              "      <td>0</td>\n",
              "      <td>0</td>\n",
              "      <td>0</td>\n",
              "      <td>0</td>\n",
              "      <td>0</td>\n",
              "      <td>0</td>\n",
              "      <td>0</td>\n",
              "      <td>0</td>\n",
              "      <td>0</td>\n",
              "      <td>0</td>\n",
              "      <td>...</td>\n",
              "      <td>0</td>\n",
              "      <td>0</td>\n",
              "      <td>0</td>\n",
              "      <td>0</td>\n",
              "      <td>0</td>\n",
              "      <td>0</td>\n",
              "      <td>0</td>\n",
              "      <td>0</td>\n",
              "      <td>0</td>\n",
              "      <td>0</td>\n",
              "    </tr>\n",
              "    <tr>\n",
              "      <th>2</th>\n",
              "      <td>0</td>\n",
              "      <td>0</td>\n",
              "      <td>0</td>\n",
              "      <td>0</td>\n",
              "      <td>0</td>\n",
              "      <td>0</td>\n",
              "      <td>0</td>\n",
              "      <td>0</td>\n",
              "      <td>0</td>\n",
              "      <td>0</td>\n",
              "      <td>...</td>\n",
              "      <td>0</td>\n",
              "      <td>0</td>\n",
              "      <td>0</td>\n",
              "      <td>0</td>\n",
              "      <td>0</td>\n",
              "      <td>0</td>\n",
              "      <td>0</td>\n",
              "      <td>0</td>\n",
              "      <td>0</td>\n",
              "      <td>0</td>\n",
              "    </tr>\n",
              "    <tr>\n",
              "      <th>3</th>\n",
              "      <td>0</td>\n",
              "      <td>0</td>\n",
              "      <td>0</td>\n",
              "      <td>0</td>\n",
              "      <td>0</td>\n",
              "      <td>0</td>\n",
              "      <td>0</td>\n",
              "      <td>0</td>\n",
              "      <td>0</td>\n",
              "      <td>0</td>\n",
              "      <td>...</td>\n",
              "      <td>0</td>\n",
              "      <td>0</td>\n",
              "      <td>0</td>\n",
              "      <td>0</td>\n",
              "      <td>0</td>\n",
              "      <td>0</td>\n",
              "      <td>0</td>\n",
              "      <td>0</td>\n",
              "      <td>0</td>\n",
              "      <td>0</td>\n",
              "    </tr>\n",
              "    <tr>\n",
              "      <th>4</th>\n",
              "      <td>0</td>\n",
              "      <td>0</td>\n",
              "      <td>0</td>\n",
              "      <td>0</td>\n",
              "      <td>0</td>\n",
              "      <td>0</td>\n",
              "      <td>0</td>\n",
              "      <td>0</td>\n",
              "      <td>0</td>\n",
              "      <td>0</td>\n",
              "      <td>...</td>\n",
              "      <td>0</td>\n",
              "      <td>0</td>\n",
              "      <td>0</td>\n",
              "      <td>0</td>\n",
              "      <td>0</td>\n",
              "      <td>0</td>\n",
              "      <td>0</td>\n",
              "      <td>0</td>\n",
              "      <td>0</td>\n",
              "      <td>0</td>\n",
              "    </tr>\n",
              "    <tr>\n",
              "      <th>...</th>\n",
              "      <td>...</td>\n",
              "      <td>...</td>\n",
              "      <td>...</td>\n",
              "      <td>...</td>\n",
              "      <td>...</td>\n",
              "      <td>...</td>\n",
              "      <td>...</td>\n",
              "      <td>...</td>\n",
              "      <td>...</td>\n",
              "      <td>...</td>\n",
              "      <td>...</td>\n",
              "      <td>...</td>\n",
              "      <td>...</td>\n",
              "      <td>...</td>\n",
              "      <td>...</td>\n",
              "      <td>...</td>\n",
              "      <td>...</td>\n",
              "      <td>...</td>\n",
              "      <td>...</td>\n",
              "      <td>...</td>\n",
              "      <td>...</td>\n",
              "    </tr>\n",
              "    <tr>\n",
              "      <th>69995</th>\n",
              "      <td>0</td>\n",
              "      <td>0</td>\n",
              "      <td>0</td>\n",
              "      <td>0</td>\n",
              "      <td>0</td>\n",
              "      <td>0</td>\n",
              "      <td>0</td>\n",
              "      <td>0</td>\n",
              "      <td>0</td>\n",
              "      <td>0</td>\n",
              "      <td>...</td>\n",
              "      <td>0</td>\n",
              "      <td>0</td>\n",
              "      <td>0</td>\n",
              "      <td>0</td>\n",
              "      <td>0</td>\n",
              "      <td>0</td>\n",
              "      <td>0</td>\n",
              "      <td>0</td>\n",
              "      <td>0</td>\n",
              "      <td>0</td>\n",
              "    </tr>\n",
              "    <tr>\n",
              "      <th>69996</th>\n",
              "      <td>0</td>\n",
              "      <td>0</td>\n",
              "      <td>0</td>\n",
              "      <td>0</td>\n",
              "      <td>0</td>\n",
              "      <td>0</td>\n",
              "      <td>0</td>\n",
              "      <td>0</td>\n",
              "      <td>0</td>\n",
              "      <td>0</td>\n",
              "      <td>...</td>\n",
              "      <td>0</td>\n",
              "      <td>0</td>\n",
              "      <td>0</td>\n",
              "      <td>0</td>\n",
              "      <td>0</td>\n",
              "      <td>0</td>\n",
              "      <td>0</td>\n",
              "      <td>0</td>\n",
              "      <td>0</td>\n",
              "      <td>0</td>\n",
              "    </tr>\n",
              "    <tr>\n",
              "      <th>69997</th>\n",
              "      <td>0</td>\n",
              "      <td>0</td>\n",
              "      <td>0</td>\n",
              "      <td>0</td>\n",
              "      <td>0</td>\n",
              "      <td>0</td>\n",
              "      <td>0</td>\n",
              "      <td>0</td>\n",
              "      <td>0</td>\n",
              "      <td>0</td>\n",
              "      <td>...</td>\n",
              "      <td>0</td>\n",
              "      <td>0</td>\n",
              "      <td>0</td>\n",
              "      <td>0</td>\n",
              "      <td>0</td>\n",
              "      <td>0</td>\n",
              "      <td>0</td>\n",
              "      <td>0</td>\n",
              "      <td>0</td>\n",
              "      <td>0</td>\n",
              "    </tr>\n",
              "    <tr>\n",
              "      <th>69998</th>\n",
              "      <td>0</td>\n",
              "      <td>0</td>\n",
              "      <td>0</td>\n",
              "      <td>0</td>\n",
              "      <td>0</td>\n",
              "      <td>0</td>\n",
              "      <td>0</td>\n",
              "      <td>0</td>\n",
              "      <td>0</td>\n",
              "      <td>0</td>\n",
              "      <td>...</td>\n",
              "      <td>0</td>\n",
              "      <td>0</td>\n",
              "      <td>0</td>\n",
              "      <td>0</td>\n",
              "      <td>0</td>\n",
              "      <td>0</td>\n",
              "      <td>0</td>\n",
              "      <td>0</td>\n",
              "      <td>0</td>\n",
              "      <td>0</td>\n",
              "    </tr>\n",
              "    <tr>\n",
              "      <th>69999</th>\n",
              "      <td>0</td>\n",
              "      <td>0</td>\n",
              "      <td>0</td>\n",
              "      <td>0</td>\n",
              "      <td>0</td>\n",
              "      <td>0</td>\n",
              "      <td>0</td>\n",
              "      <td>0</td>\n",
              "      <td>0</td>\n",
              "      <td>0</td>\n",
              "      <td>...</td>\n",
              "      <td>0</td>\n",
              "      <td>0</td>\n",
              "      <td>0</td>\n",
              "      <td>0</td>\n",
              "      <td>0</td>\n",
              "      <td>0</td>\n",
              "      <td>0</td>\n",
              "      <td>0</td>\n",
              "      <td>0</td>\n",
              "      <td>0</td>\n",
              "    </tr>\n",
              "  </tbody>\n",
              "</table>\n",
              "<p>70000 rows × 784 columns</p>\n",
              "</div>"
            ],
            "text/plain": [
              "       0    1    2    3    4    5    6    7    8    9    ...  774  775  776  \\\n",
              "0        0    0    0    0    0    0    0    0    0    0  ...    0    0    0   \n",
              "1        0    0    0    0    0    0    0    0    0    0  ...    0    0    0   \n",
              "2        0    0    0    0    0    0    0    0    0    0  ...    0    0    0   \n",
              "3        0    0    0    0    0    0    0    0    0    0  ...    0    0    0   \n",
              "4        0    0    0    0    0    0    0    0    0    0  ...    0    0    0   \n",
              "...    ...  ...  ...  ...  ...  ...  ...  ...  ...  ...  ...  ...  ...  ...   \n",
              "69995    0    0    0    0    0    0    0    0    0    0  ...    0    0    0   \n",
              "69996    0    0    0    0    0    0    0    0    0    0  ...    0    0    0   \n",
              "69997    0    0    0    0    0    0    0    0    0    0  ...    0    0    0   \n",
              "69998    0    0    0    0    0    0    0    0    0    0  ...    0    0    0   \n",
              "69999    0    0    0    0    0    0    0    0    0    0  ...    0    0    0   \n",
              "\n",
              "       777  778  779  780  781  782  783  \n",
              "0        0    0    0    0    0    0    0  \n",
              "1        0    0    0    0    0    0    0  \n",
              "2        0    0    0    0    0    0    0  \n",
              "3        0    0    0    0    0    0    0  \n",
              "4        0    0    0    0    0    0    0  \n",
              "...    ...  ...  ...  ...  ...  ...  ...  \n",
              "69995    0    0    0    0    0    0    0  \n",
              "69996    0    0    0    0    0    0    0  \n",
              "69997    0    0    0    0    0    0    0  \n",
              "69998    0    0    0    0    0    0    0  \n",
              "69999    0    0    0    0    0    0    0  \n",
              "\n",
              "[70000 rows x 784 columns]"
            ]
          },
          "execution_count": 1,
          "metadata": {},
          "output_type": "execute_result"
        }
      ],
      "source": [
        "%%time\n",
        "import pandas as pd\n",
        "import warnings\n",
        "warnings.filterwarnings(\"ignore\")\n",
        "\n",
        "from sklearn.datasets import fetch_openml\n",
        "mnist = fetch_openml('mnist_784', as_frame=False)\n",
        "X, y = mnist.data, mnist.target\n",
        "\n",
        "pd.DataFrame(X)\n"
      ]
    },
    {
      "cell_type": "code",
      "execution_count": null,
      "metadata": {
        "colab": {
          "base_uri": "https://localhost:8080/",
          "height": 444
        },
        "id": "3_QSRobfUj_O",
        "outputId": "e49f9f08-02b4-45b1-f8da-3a2110afd66a"
      },
      "outputs": [
        {
          "name": "stdout",
          "output_type": "stream",
          "text": [
            "La etiqueta de esta imagen es:  3\n"
          ]
        },
        {
          "data": {
            "image/png": "[encoded data removed]",
            "text/plain": [
              "<Figure size 640x480 with 1 Axes>"
            ]
          },
          "metadata": {},
          "output_type": "display_data"
        }
      ],
      "source": [
        "##Visualización\n",
        "import matplotlib.pyplot as plt\n",
        "def plot_digit(image_data):\n",
        "    image = image_data.reshape(28, 28)\n",
        "    plt.imshow(image, cmap=\"binary\")\n",
        "    plt.axis(\"off\")\n",
        "\n",
        "print(\"La etiqueta de esta imagen es: \", y[12])\n",
        "plot_digit(X[12])"
      ]
    },
    {
      "cell_type": "markdown",
      "metadata": {
        "id": "IFqGst5s6Jpe"
      },
      "source": [
        "NMF (Non-negative Matrix Factorization) se aplica a matrices de datos que contienen solo `valores no negativos`.\n",
        "\n",
        "De manera similar a `PCA`, podemos realizar una `reducción dimensional` y obtener una entrada dimensional reducida utilizando `NMF`. Notamos que obtenemos imágenes un poco `menos ruidosas` en comparación con el resultado de PCA."
      ]
    },
    {
      "cell_type": "code",
      "execution_count": null,
      "metadata": {
        "id": "LCLePEbb6Jpf"
      },
      "outputs": [],
      "source": [
        "from sklearn.decomposition import PCA, NMF\n",
        "\n",
        "def reducedInputPCA(X:   pd.DataFrame,\n",
        "                    nPC: int\n",
        "                    ):\n",
        "    pca = PCA(n_components = nPC)        ## instanciando\n",
        "    X_pca = pca.fit_transform(X)         ## \"entrenando\"\n",
        "    return pca.inverse_transform(X_pca)\n",
        "\n",
        "\n",
        "def reducedInputNMF(X,n):\n",
        "    nmf = NMF(n_components = n, init='random', random_state=0)      #\n",
        "    X_nmf = nmf.fit_transform(X)                                  #\n",
        "    return nmf.inverse_transform(X_nmf)"
      ]
    },
    {
      "cell_type": "markdown",
      "metadata": {
        "id": "XsEuiNydUj_O"
      },
      "source": [
        "- 2.1 Escale todas las `784` variables con el método `min-max`; pero usando en máximo y el mínimo globales, en lugar de los de cada columna. Vrase el `ejercicio 0312` del capítulo 5, unidad 8 (`ensemble algorithms`)."
      ]
    },
    {
      "cell_type": "code",
      "execution_count": null,
      "metadata": {
        "id": "hGWO-_mlamzL"
      },
      "outputs": [],
      "source": [
        "X_min = X.min()\n",
        "X_max = X.max()\n",
        "X_range = X_max - X_min\n",
        "X = (X - X_min)/X_range"
      ]
    },
    {
      "cell_type": "code",
      "execution_count": null,
      "metadata": {
        "id": "1IHEztfO6Jpg",
        "outputId": "1b16ea26-df3d-4743-f97d-9b4deb1711ae"
      },
      "outputs": [
        {
          "data": {
            "image/png": "[encoded data removed]",
            "text/plain": [
              "<Figure size 640x480 with 1 Axes>"
            ]
          },
          "metadata": {},
          "output_type": "display_data"
        }
      ],
      "source": [
        "#X_reduced_1 = reducedInputNMF(X,195)\n",
        "#plot_digit(X_reduced_1[12])"
      ]
    },
    {
      "cell_type": "code",
      "execution_count": null,
      "metadata": {
        "id": "38Y_G2Vv6Jph",
        "outputId": "3aa1f4d7-e4fa-4b88-ce8b-82c6892371d6"
      },
      "outputs": [
        {
          "data": {
            "image/png": "[encoded data removed]",
            "text/plain": [
              "<Figure size 640x480 with 1 Axes>"
            ]
          },
          "metadata": {},
          "output_type": "display_data"
        }
      ],
      "source": [
        "X_reduced_2 = reducedInputNMF(X,48)\n",
        "plot_digit(X_reduced_2[12])"
      ]
    },
    {
      "cell_type": "markdown",
      "metadata": {
        "id": "eGxXb1DnUj_O"
      },
      "source": [
        "- 2.2 Divida los datos en un conjunto de entrenamiento y un conjunto de prueba (utilizar $60.000$ registros para el entrenamiento y $10.000$ para prueba). Luego, entrene los siguientes clasificadores optimizando los `hiperparámetros` más representativos (excepto los de regularización) mediante la `validación cruzada `:\n",
        "\n",
        "  - clasificador SVM.\n",
        "  - Regresión logística\n",
        "  - Naive Bayes\n",
        "  - K-vecinos\n",
        "  - Árbol de decisión\n",
        "\n",
        "  Compare los rendimientos de cada uno de ellos."
      ]
    },
    {
      "cell_type": "markdown",
      "metadata": {
        "id": "sDy4_lCMlWZb"
      },
      "source": [
        "Respuesta: Dividiendo los datos en entrenamiento y test"
      ]
    },
    {
      "cell_type": "code",
      "execution_count": null,
      "metadata": {
        "id": "ZPTl9ao9cclp"
      },
      "outputs": [],
      "source": [
        "import numpy as np\n",
        "from sklearn import metrics\n",
        "from sklearn.model_selection import train_test_split,GridSearchCV\n",
        "\n",
        "X_train, X_test, Y_train, Y_test = train_test_split(X, y, test_size = 1/7, random_state=1234)"
      ]
    },
    {
      "cell_type": "code",
      "execution_count": null,
      "metadata": {
        "id": "XLvlNsAl6Jpk"
      },
      "outputs": [],
      "source": [
        "#X_reduced_1_train, X_reduced_1_test, Y_reduced_1_train, Y_reduced_1_test = train_test_split(X_reduced_1, y, test_size = 1/7, random_state=1234)\n",
        "X_reduced_2_train, X_reduced_2_test, Y_reduced_2_train, Y_reduced_2_test = train_test_split(X_reduced_2, y, test_size = 1/7, random_state=1234)"
      ]
    },
    {
      "cell_type": "markdown",
      "metadata": {
        "id": "4lB0-vmZrD32"
      },
      "source": [
        "Creando modelo 1: Regresión logística"
      ]
    },
    {
      "cell_type": "code",
      "execution_count": null,
      "metadata": {
        "colab": {
          "background_save": true
        },
        "id": "SUBX3lS-rO-p",
        "outputId": "6db457ee-107a-4dae-f1ea-719bef8426f2"
      },
      "outputs": [
        {
          "name": "stdout",
          "output_type": "stream",
          "text": [
            "El mejor penalty es: None\n",
            "El mejor número de máximas iteraciones es: 100\n",
            "CPU times: total: 2min\n",
            "Wall time: 1min 14s\n"
          ]
        }
      ],
      "source": [
        "%%time\n",
        "from sklearn.linear_model import LogisticRegression     #se importa cada clasificador individual\n",
        "\n",
        "penalty = [None]#['l1', 'l2']\n",
        "max_iter = [50, 100, 200]\n",
        "#No se usa aquí parámetro de regularización C\n",
        "parameters_lr = {'penalty': penalty, 'max_iter': max_iter}\n",
        "\n",
        "\n",
        "gridCV_lr = GridSearchCV( LogisticRegression(random_state = 12345), parameters_lr, n_jobs = -1)\n",
        "gridCV_lr.fit(X_reduced_2_train, Y_reduced_2_train)\n",
        "#-----------\n",
        "best_penalty = gridCV_lr.best_params_['penalty']\n",
        "best_max_iter  = gridCV_lr.best_params_['max_iter']\n",
        "\n",
        "\n",
        "print(\"El mejor penalty es: \" + str(best_penalty))\n",
        "print(\"El mejor número de máximas iteraciones es: \" + str(best_max_iter))"
      ]
    },
    {
      "cell_type": "code",
      "execution_count": null,
      "metadata": {
        "id": "g3O8y4CQj0B8",
        "outputId": "f6c4c2d7-6ebf-45e4-c566-90e8ab51081e"
      },
      "outputs": [
        {
          "name": "stdout",
          "output_type": "stream",
          "text": [
            "El mejor accuracy del LR : 0.901\n"
          ]
        }
      ],
      "source": [
        "LR_best = LogisticRegression(penalty=best_penalty, max_iter=best_max_iter, random_state = 12345)\n",
        "\n",
        "LR_best.fit(X_reduced_2_train, Y_reduced_2_train)\n",
        "Y_pred_lr = LR_best.predict(X_reduced_2_test)\n",
        "print( \"El mejor accuracy del LR : \" + str(np.round(metrics.accuracy_score(Y_reduced_2_test,Y_pred_lr),3)))"
      ]
    },
    {
      "cell_type": "markdown",
      "metadata": {
        "id": "jg8LcuTCrEBx"
      },
      "source": [
        "Creando modelo 2: Naive bayes"
      ]
    },
    {
      "cell_type": "code",
      "execution_count": null,
      "metadata": {
        "id": "Cp0xqiuAr3YO",
        "outputId": "aac920cb-9f97-40bd-8097-854e1873de58"
      },
      "outputs": [
        {
          "name": "stdout",
          "output_type": "stream",
          "text": [
            "El mejor var_smoothing es: 0.1\n",
            "CPU times: total: 1.33 s\n",
            "Wall time: 27.9 s\n"
          ]
        }
      ],
      "source": [
        "%%time\n",
        "from sklearn.naive_bayes  import GaussianNB\n",
        "var_smoothing= [1e-11, 1e-9, 1e-7, 1e-5, 1e-3, 1e-1, 1, 10]\n",
        "parameters_nb = {'var_smoothing': var_smoothing}\n",
        "\n",
        "\n",
        "gridCV_nb = GridSearchCV(GaussianNB(), parameters_nb, n_jobs = -1)\n",
        "gridCV_nb.fit(X_reduced_2_train, Y_reduced_2_train)\n",
        "#-----------\n",
        "best_var_smoothing = gridCV_nb.best_params_['var_smoothing']\n",
        "\n",
        "print(\"El mejor var_smoothing es: \" + str(best_var_smoothing))"
      ]
    },
    {
      "cell_type": "code",
      "execution_count": null,
      "metadata": {
        "id": "k6_qzcvSpOr6",
        "outputId": "8fd81bd1-c135-4a2f-c1b1-996bd4a4b5bd"
      },
      "outputs": [
        {
          "name": "stdout",
          "output_type": "stream",
          "text": [
            "El mejor accuracy del NB : 0.803\n"
          ]
        }
      ],
      "source": [
        "NB_best = GaussianNB(var_smoothing=best_var_smoothing)\n",
        "\n",
        "NB_best.fit(X_reduced_2_train, Y_reduced_2_train)\n",
        "Y_pred_nb = NB_best.predict(X_reduced_2_test)\n",
        "print( \"El mejor accuracy del NB : \" + str(np.round(metrics.accuracy_score(Y_reduced_2_test,Y_pred_nb),3)))"
      ]
    },
    {
      "cell_type": "markdown",
      "metadata": {
        "id": "WtprX76orEfh"
      },
      "source": [
        "Creando modelo 3: K-vecinos"
      ]
    },
    {
      "cell_type": "code",
      "execution_count": null,
      "metadata": {
        "id": "5YtNQ1IHr2zw",
        "outputId": "4391ef80-caad-414d-dc34-675b9f248812"
      },
      "outputs": [
        {
          "name": "stdout",
          "output_type": "stream",
          "text": [
            "El mejor n_neighbors es: 5\n",
            "El mejor p es: 2\n",
            "El mejor weights es: distance\n",
            "CPU times: total: 547 ms\n",
            "Wall time: 1min 27s\n"
          ]
        }
      ],
      "source": [
        "%%time\n",
        "from sklearn.neighbors    import KNeighborsClassifier   #se importa cada clasificador individual\n",
        "n_neighbors = [3, 5, 7]# Mejor número impar [3, 5, 7, 9]\n",
        "p = [2]#[1, 2, 3]\n",
        "weights = ['uniform', 'distance']#\n",
        "parameters_knn = {'n_neighbors': n_neighbors, 'p': p, 'weights': weights}\n",
        "\n",
        "\n",
        "gridCV_knn = GridSearchCV(KNeighborsClassifier(), parameters_knn, n_jobs = -1)\n",
        "gridCV_knn.fit(X_reduced_2_train, Y_reduced_2_train)\n",
        "#-----------\n",
        "best_n_neighbors = gridCV_knn.best_params_['n_neighbors']\n",
        "best_p = gridCV_knn.best_params_['p']\n",
        "best_weights  = gridCV_knn.best_params_['weights']\n",
        "\n",
        "\n",
        "print(\"El mejor n_neighbors es: \" + str(best_n_neighbors))\n",
        "print(\"El mejor p es: \" + str(best_p))\n",
        "print(\"El mejor weights es: \" + str(best_weights))"
      ]
    },
    {
      "cell_type": "code",
      "execution_count": null,
      "metadata": {
        "id": "1lRWG2OkzlFs",
        "outputId": "13191b41-ce90-46fe-f1cd-e19d4b2d9c24"
      },
      "outputs": [
        {
          "name": "stdout",
          "output_type": "stream",
          "text": [
            "El mejor accuracy del KNN : 0.975\n"
          ]
        }
      ],
      "source": [
        "KNN_best = KNeighborsClassifier(n_neighbors=best_n_neighbors, p=best_p, weights=best_weights)\n",
        "\n",
        "KNN_best.fit(X_reduced_2_train, Y_reduced_2_train)\n",
        "Y_pred_knn = KNN_best.predict(X_reduced_2_test)\n",
        "print( \"El mejor accuracy del KNN : \" + str(np.round(metrics.accuracy_score(Y_reduced_2_test,Y_pred_knn),3)))"
      ]
    },
    {
      "cell_type": "markdown",
      "metadata": {
        "id": "898fBmNrluN-"
      },
      "source": [
        "Creando modelo 4: Decision Tree"
      ]
    },
    {
      "cell_type": "code",
      "execution_count": null,
      "metadata": {
        "id": "HnL47ibXlelE",
        "outputId": "4fadf68e-e0c5-491d-97cc-055b3272abb7"
      },
      "outputs": [
        {
          "name": "stdout",
          "output_type": "stream",
          "text": [
            "La mejor max_depth del árbol: 11\n",
            "El mejor min_samples_leaf del árbol: 2\n",
            "El mejor max_leaf_nodes del árbol: 53\n",
            "CPU times: total: 37.9 s\n",
            "Wall time: 28min 34s\n"
          ]
        }
      ],
      "source": [
        "%%time\n",
        "from sklearn.tree import  DecisionTreeClassifier\n",
        "depth_grid = np.arange(1,22,5)\n",
        "min_samples_leaf_grid = np.arange(2,23,5) #\n",
        "max_leaf_nodes_grid = np.arange(23,54,5)#\n",
        "parameters_dt = {'max_depth':depth_grid, 'min_samples_leaf':min_samples_leaf_grid, 'max_leaf_nodes':max_leaf_nodes_grid}\n",
        "\n",
        "\n",
        "gridCV_dt = GridSearchCV(DecisionTreeClassifier(random_state = 12345), parameters_dt, n_jobs = -1)\n",
        "gridCV_dt.fit(X_reduced_2_train, Y_reduced_2_train)\n",
        "#-----------\n",
        "best_depth = gridCV_dt.best_params_['max_depth']\n",
        "best_min_samples_leaf = gridCV_dt.best_params_['min_samples_leaf']\n",
        "best_max_leaf_nodes = gridCV_dt.best_params_['max_leaf_nodes']\n",
        "\n",
        "\n",
        "print(\"La mejor max_depth del árbol: \" + str(best_depth))\n",
        "print(\"El mejor min_samples_leaf del árbol: \" + str(best_min_samples_leaf))\n",
        "print(\"El mejor max_leaf_nodes del árbol: \" + str(best_max_leaf_nodes))"
      ]
    },
    {
      "cell_type": "code",
      "execution_count": null,
      "metadata": {
        "id": "j5QxRQmbAWpx",
        "outputId": "da1ca05c-6ba5-4e6c-e992-a6939026608f"
      },
      "outputs": [
        {
          "name": "stdout",
          "output_type": "stream",
          "text": [
            "La mejor accuracy del árbol : 0.786\n"
          ]
        }
      ],
      "source": [
        "DT_best = DecisionTreeClassifier(max_depth=best_depth, min_samples_leaf=best_min_samples_leaf, max_leaf_nodes=best_max_leaf_nodes, random_state = 12345)\n",
        "\n",
        "DT_best.fit(X_reduced_2_train, Y_reduced_2_train)\n",
        "Y_pred_dt = DT_best.predict(X_reduced_2_test)\n",
        "print( \"La mejor accuracy del árbol : \" + str(np.round(metrics.accuracy_score(Y_reduced_2_test,Y_pred_dt),3)))"
      ]
    },
    {
      "cell_type": "markdown",
      "metadata": {
        "id": "FLquWkPQ6Jps"
      },
      "source": [
        "Creando modelo 5: SVM"
      ]
    },
    {
      "cell_type": "code",
      "execution_count": null,
      "metadata": {
        "id": "UnpDFKZJ6Jps",
        "outputId": "e449cf9a-11d3-4bcf-9377-c7bb9bea3b2e"
      },
      "outputs": [
        {
          "name": "stdout",
          "output_type": "stream",
          "text": [
            "El mejor degree es: 2\n",
            "El mejor kernel es: rbf\n",
            "CPU times: total: 1min 57s\n",
            "Wall time: 27min 56s\n"
          ]
        }
      ],
      "source": [
        "%%time\n",
        "from sklearn.svm  import SVC\n",
        "\n",
        "degree = [2,3]#\n",
        "kernel =  ['rbf','poly']#\n",
        "#No se usa aquí parámetro de regularización C\n",
        "parameters_svm = {'degree': degree, 'kernel': kernel}\n",
        "\n",
        "\n",
        "gridCV_svm = GridSearchCV(SVC(gamma='scale', random_state = 12345), parameters_svm, n_jobs = -1)\n",
        "gridCV_svm.fit(X_reduced_2_train, Y_reduced_2_train)\n",
        "#-----------\n",
        "best_degree = gridCV_svm.best_params_['degree']\n",
        "best_kernel  = gridCV_svm.best_params_['kernel']\n",
        "\n",
        "\n",
        "print(\"El mejor degree es: \" + str(best_degree))\n",
        "print(\"El mejor kernel es: \" + str(best_kernel))"
      ]
    },
    {
      "cell_type": "code",
      "execution_count": null,
      "metadata": {
        "id": "Vq6pSqyS6Jpt",
        "outputId": "7d5f32c2-59fa-4c93-cdec-abb4d96c963b"
      },
      "outputs": [
        {
          "name": "stdout",
          "output_type": "stream",
          "text": [
            "El mejor accuracy del SVM : 0.974\n"
          ]
        }
      ],
      "source": [
        "SVM_best = SVC(degree=best_degree, kernel=best_kernel, gamma='scale', probability= True,  random_state = 12345)# gamma = 'auto',\n",
        "\n",
        "SVM_best.fit(X_reduced_2_train, Y_reduced_2_train)\n",
        "Y_pred_svm = SVM_best.predict(X_reduced_2_test)\n",
        "print( \"El mejor accuracy del SVM : \" + str(np.round(metrics.accuracy_score(Y_reduced_2_test,Y_pred_svm),3)))"
      ]
    },
    {
      "cell_type": "markdown",
      "metadata": {
        "id": "Ekdw0F8NUj_O"
      },
      "source": [
        "- 2.3 Utilizando la combinación de hiperparámetroas más óptima para cada uno de los modelos anteriores, construya un clasificador por `voto mayoritario` tanto tipo `hard` como tipo `soft`. Elejia el más `eficiente` de los dos métodos y compare su rendimientro contra el mejor clasificador undividual del numeral anterior."
      ]
    },
    {
      "cell_type": "code",
      "execution_count": null,
      "metadata": {
        "id": "EOo2Too3fCS7",
        "outputId": "ba89941f-f9ef-4119-bccb-bd61e561b097"
      },
      "outputs": [
        {
          "name": "stdout",
          "output_type": "stream",
          "text": [
            "              precision    recall  f1-score   support\n",
            "\n",
            "           0       0.95      0.98      0.97       948\n",
            "           1       0.96      0.99      0.97      1147\n",
            "           2       0.95      0.95      0.95      1026\n",
            "           3       0.93      0.93      0.93      1009\n",
            "           4       0.95      0.96      0.96       991\n",
            "           5       0.95      0.92      0.93       914\n",
            "           6       0.96      0.97      0.96       967\n",
            "           7       0.95      0.95      0.95      1037\n",
            "           8       0.97      0.92      0.94       966\n",
            "           9       0.94      0.92      0.93       995\n",
            "\n",
            "    accuracy                           0.95     10000\n",
            "   macro avg       0.95      0.95      0.95     10000\n",
            "weighted avg       0.95      0.95      0.95     10000\n",
            "\n",
            "CPU times: total: 1min 14s\n",
            "Wall time: 11min 41s\n"
          ]
        }
      ],
      "source": [
        "%%time\n",
        "from sklearn.ensemble import VotingClassifier             # Se importa clasificador por votación\n",
        "\n",
        "myVotingEnsemble_hard=VotingClassifier(estimators=[('SVM',SVM_best), ('LR',LR_best), ('nb',NB_best), ('knn',KNN_best),  ('dt',DT_best)],voting='hard', verbose = True, n_jobs = -1)\n",
        "myVotingEnsemble_hard.fit(X_reduced_2_train, Y_reduced_2_train)\n",
        "print(metrics.classification_report(Y_reduced_2_test, myVotingEnsemble_hard.predict(X_reduced_2_test)))"
      ]
    },
    {
      "cell_type": "code",
      "execution_count": null,
      "metadata": {
        "id": "jWTsiSqNsrqW",
        "outputId": "00e5b85b-6ff2-4742-ca88-7b197f896d08"
      },
      "outputs": [
        {
          "name": "stdout",
          "output_type": "stream",
          "text": [
            "              precision    recall  f1-score   support\n",
            "\n",
            "           0       0.97      0.98      0.97       948\n",
            "           1       0.96      0.99      0.97      1147\n",
            "           2       0.96      0.94      0.95      1026\n",
            "           3       0.95      0.94      0.94      1009\n",
            "           4       0.97      0.96      0.96       991\n",
            "           5       0.96      0.93      0.95       914\n",
            "           6       0.95      0.98      0.96       967\n",
            "           7       0.95      0.96      0.96      1037\n",
            "           8       0.96      0.95      0.96       966\n",
            "           9       0.92      0.94      0.93       995\n",
            "\n",
            "    accuracy                           0.96     10000\n",
            "   macro avg       0.96      0.96      0.96     10000\n",
            "weighted avg       0.96      0.96      0.96     10000\n",
            "\n",
            "CPU times: total: 1min 13s\n",
            "Wall time: 11min 34s\n"
          ]
        }
      ],
      "source": [
        "%%time\n",
        "from sklearn.ensemble import VotingClassifier             # Se importa clasificador por votación\n",
        "\n",
        "myVotingEnsemble_soft=VotingClassifier(estimators=[('SVM',SVM_best), ('LR',LR_best), ('nb',NB_best), ('knn',KNN_best),  ('dt',DT_best)],voting='soft', verbose = True, n_jobs = -1)\n",
        "myVotingEnsemble_soft.fit(X_reduced_2_train, Y_reduced_2_train)\n",
        "print(metrics.classification_report(Y_reduced_2_test, myVotingEnsemble_soft.predict(X_reduced_2_test)))"
      ]
    },
    {
      "cell_type": "markdown",
      "metadata": {
        "id": "8IyGdCT56Jpv"
      },
      "source": [
        "El método de votación mejor es el suave \"soft\""
      ]
    },
    {
      "cell_type": "markdown",
      "metadata": {
        "id": "etGp76uxUj_O"
      },
      "source": [
        "- 2.4 Utilice el `mejor modelo individual` hallado en el numeral `2.2` y contruya un clasificador con el método `Bagging`. Compare su rendimiento con los modelos anteriores."
      ]
    },
    {
      "cell_type": "code",
      "execution_count": null,
      "metadata": {
        "id": "eI2qNxS_6Jpv",
        "outputId": "9eaf4eaf-a060-4742-babc-ef879c54b794"
      },
      "outputs": [
        {
          "name": "stdout",
          "output_type": "stream",
          "text": [
            "El mejor n_estimators es: 5\n",
            "CPU times: total: 2.61 s\n",
            "Wall time: 22min 16s\n"
          ]
        }
      ],
      "source": [
        "%%time\n",
        "from sklearn.ensemble import BaggingClassifier\n",
        "\n",
        "n_estimators_bag= [5, 10, 50]#\n",
        "parameters_bagging = {'n_estimators': n_estimators_bag}\n",
        "\n",
        "gridCV_bagging= GridSearchCV(BaggingClassifier(KNN_best), parameters_bagging, n_jobs = -1)\n",
        "gridCV_bagging.fit(X_reduced_2_train, Y_reduced_2_train)\n",
        "#-----------\n",
        "best_n_estimators_bag = gridCV_bagging.best_params_['n_estimators']\n",
        "\n",
        "\n",
        "print(\"El mejor n_estimators es: \" + str(best_n_estimators_bag))"
      ]
    },
    {
      "cell_type": "code",
      "execution_count": null,
      "metadata": {
        "id": "T4Qn3fQc6Jpw",
        "outputId": "6d0eaef2-a243-4edf-cd63-6737c15727c3"
      },
      "outputs": [
        {
          "name": "stdout",
          "output_type": "stream",
          "text": [
            "El mejor accuracy del bagging : 0.974\n"
          ]
        }
      ],
      "source": [
        "bagging_best = BaggingClassifier(KNN_best, n_estimators=best_n_estimators_bag,  n_jobs=-1)\n",
        "\n",
        "bagging_best.fit(X_reduced_2_train, Y_reduced_2_train)\n",
        "Y_pred_bagging = bagging_best.predict(X_reduced_2_test)\n",
        "print( \"El mejor accuracy del bagging : \" + str(np.round(metrics.accuracy_score(Y_reduced_2_test,Y_pred_bagging ),3)))"
      ]
    },
    {
      "cell_type": "markdown",
      "metadata": {
        "id": "mzgxR8I5Uj_P"
      },
      "source": [
        "- 2.5 Utilizando los hiperparámetros del mejor `árbol de decisión` construido en el numeral `2.2`, entrene un `bosque aleatorio` y utilice la validación cruzada afinar solamente un hiperparámetro: `n_estimators`. Compare su rendimiento con los modelos anteriores."
      ]
    },
    {
      "cell_type": "code",
      "execution_count": null,
      "metadata": {
        "id": "OiZXrHdC6Jpx",
        "outputId": "0ae8a15a-998f-410a-99d1-de8589f4477c"
      },
      "outputs": [
        {
          "name": "stdout",
          "output_type": "stream",
          "text": [
            "El mejor n_estimators es: 500\n",
            "CPU times: total: 5min 57s\n",
            "Wall time: 11min 22s\n"
          ]
        }
      ],
      "source": [
        "%%time\n",
        "from sklearn.ensemble import RandomForestClassifier\n",
        "\n",
        "n_estimators_rfc= [10, 50, 100, 500]#\n",
        "parameters_rfc = {'n_estimators': n_estimators_rfc}\n",
        "\n",
        "gridCV_rfc= GridSearchCV(RandomForestClassifier(max_depth=best_depth, min_samples_leaf=best_min_samples_leaf, max_leaf_nodes=best_max_leaf_nodes, random_state = 12345, class_weight = \"balanced\"), parameters_rfc, n_jobs = -1)\n",
        "gridCV_rfc.fit(X_reduced_2_train, Y_reduced_2_train)\n",
        "#-----------\n",
        "best_n_estimators_rfc = gridCV_rfc.best_params_['n_estimators']\n",
        "\n",
        "\n",
        "print(\"El mejor n_estimators es: \" + str(best_n_estimators_rfc))"
      ]
    },
    {
      "cell_type": "code",
      "execution_count": null,
      "metadata": {
        "id": "4pxZKaEl6Jpx",
        "outputId": "1992df5e-213a-46b9-c8a3-56a60a5add19"
      },
      "outputs": [
        {
          "name": "stdout",
          "output_type": "stream",
          "text": [
            "Random Forest accuracy : 0.893\n",
            "CPU times: total: 5min 57s\n",
            "Wall time: 5min 57s\n"
          ]
        }
      ],
      "source": [
        "%%time\n",
        "# Clasificación por Random Forest.\n",
        "RFC_best = RandomForestClassifier(n_estimators=best_n_estimators_rfc , max_depth=best_depth, min_samples_leaf=best_min_samples_leaf, max_leaf_nodes=best_max_leaf_nodes, random_state = 12345, class_weight = \"balanced\")\n",
        "RFC_best.fit(X_reduced_2_train, Y_reduced_2_train)\n",
        "Y_pred_rfc = RFC_best.predict(X_reduced_2_test)\n",
        "print( \"Random Forest accuracy : \" + str(np.round(metrics.accuracy_score(Y_reduced_2_test,Y_pred_rfc),3)))"
      ]
    },
    {
      "cell_type": "markdown",
      "metadata": {
        "id": "DzN18cDTUj_P"
      },
      "source": [
        "- 2.6 Utilice el `mejor modelo individual` hallado en el numeral `2.2` y contruya un clasificador con el método `AdaBoost`y utilice la validación cruzada afinar solamente dos hiperparámetros: `n_estimators` y `learning_rate`. Compare su rendimiento con los modelos anteriores."
      ]
    },
    {
      "cell_type": "code",
      "execution_count": null,
      "metadata": {
        "id": "xNnjSB-16Jpy",
        "outputId": "c09ea331-6841-4345-aec8-37c3e8ee71bd"
      },
      "outputs": [
        {
          "name": "stdout",
          "output_type": "stream",
          "text": [
            "El mejor n_estimators es: 10\n",
            "El mejor learning_rate es: 0.1\n",
            "CPU times: total: 20min 19s\n",
            "Wall time: 17min 8s\n"
          ]
        }
      ],
      "source": [
        "%%time\n",
        "from sklearn.ensemble import AdaBoostClassifier\n",
        "\n",
        "n_estimators_ab= [10, 20]#, 50, 100\n",
        "learning_rate_ab= [1, 1e-1]#\n",
        "\n",
        "parameters_adaboost = {'n_estimators': n_estimators_ab, 'learning_rate':learning_rate_ab}\n",
        "\n",
        "gridCV_ab = GridSearchCV(AdaBoostClassifier(LR_best,random_state=123), parameters_adaboost , n_jobs = -1)\n",
        "gridCV_ab.fit(X_reduced_2_train, Y_reduced_2_train)\n",
        "#-----------\n",
        "best_n_estimators_ab = gridCV_ab.best_params_['n_estimators']\n",
        "best_learning_rate_ab = gridCV_ab.best_params_['learning_rate']\n",
        "\n",
        "\n",
        "print(\"El mejor n_estimators es: \" + str(best_n_estimators_ab))\n",
        "print(\"El mejor learning_rate es: \" + str(best_learning_rate_ab))"
      ]
    },
    {
      "cell_type": "code",
      "execution_count": null,
      "metadata": {
        "id": "j5URVF_w6Jpy",
        "outputId": "e1cf0795-79d1-4262-fe72-699da8dfc232"
      },
      "outputs": [
        {
          "name": "stdout",
          "output_type": "stream",
          "text": [
            "Adaboost accuracy : 0.881\n",
            "CPU times: total: 20min 27s\n",
            "Wall time: 1min 31s\n"
          ]
        }
      ],
      "source": [
        "%%time\n",
        "# Clasificación por adaboost.\n",
        "AdaBoost_best = AdaBoostClassifier(LR_best, random_state=123, n_estimators=best_n_estimators_ab, learning_rate=best_learning_rate_ab)\n",
        "AdaBoost_best.fit(X_reduced_2_train, Y_reduced_2_train)\n",
        "Y_pred_ada = AdaBoost_best.predict(X_reduced_2_test)\n",
        "print( \"Adaboost accuracy : \" + str(np.round(metrics.accuracy_score(Y_reduced_2_test,Y_pred_ada),3)))"
      ]
    },
    {
      "cell_type": "markdown",
      "metadata": {
        "id": "5TVGjuyoUj_P"
      },
      "source": [
        "- 2.7 Utilizando los hiperparámetros del mejor `árbol de decisión` construido en el numeral `2.2`, entrene un `GradientBoostingClassifier` y utilice la validación cruzada afinar solamente dos hiperparámetros: `n_estimators` y `learning_rate`. Compare su rendimiento con los modelos anteriores."
      ]
    },
    {
      "cell_type": "code",
      "execution_count": null,
      "metadata": {
        "id": "fzvqZAsm6Jpz",
        "outputId": "6823ef33-5f41-4881-eb6a-09480aa9214e"
      },
      "outputs": [
        {
          "ename": "NameError",
          "evalue": "name 'X_reduced_1_train' is not defined",
          "output_type": "error",
          "traceback": [
            "\u001b[1;31m---------------------------------------------------------------------------\u001b[0m",
            "\u001b[1;31mNameError\u001b[0m                                 Traceback (most recent call last)",
            "File \u001b[1;32m<timed exec>:8\u001b[0m\n",
            "\u001b[1;31mNameError\u001b[0m: name 'X_reduced_1_train' is not defined"
          ]
        }
      ],
      "source": [
        "%%time\n",
        "from sklearn.ensemble import GradientBoostingClassifier\n",
        "\n",
        "n_estimators_gbc= [10]#, 50, 100\n",
        "learning_rate_gbc= [1]#, 1e-1\n",
        "parameters_gbc = {'n_estimators': n_estimators_gbc, 'learning_rate':learning_rate_gbc}\n",
        "\n",
        "gridCV_gbc= GridSearchCV(GradientBoostingClassifier(max_depth=best_depth, min_samples_leaf=best_min_samples_leaf, max_leaf_nodes=best_max_leaf_nodes, random_state = 12345), parameters_gbc, n_jobs = -1)\n",
        "gridCV_gbc.fit(X_reduced_2_train, Y_reduced_2_train)\n",
        "#-----------\n",
        "best_n_estimators_gbc = gridCV_gbc.best_params_['n_estimators']\n",
        "best_learning_rate_gbc = gridCV_gbc.best_params_['learning_rate']\n",
        "\n",
        "\n",
        "print(\"El mejor n_estimators es: \" + str(best_n_estimators_gbc))\n",
        "print(\"El mejor learning rate es: \" + str(best_learning_rate_gbc))"
      ]
    },
    {
      "cell_type": "code",
      "execution_count": null,
      "metadata": {
        "id": "-pXtVsH16Jp0"
      },
      "outputs": [],
      "source": [
        "%%time\n",
        "# Clasificación por Gradient Boosting.\n",
        "GBC_best = GradientBoostingClassifier(n_estimators=best_n_estimators_gbc, learning_rate=best_learning_rate_gbc, max_depth=best_depth, min_samples_leaf=best_min_samples_leaf, max_leaf_nodes=best_max_leaf_nodes, random_state = 12345)\n",
        "GBC_best.fit(X_reduced_2_train, Y_reduced_2_train)\n",
        "Y_pred_gbc = GBC_best.predict(X_reduced_2_test)\n",
        "print( \"Gradient Boosting accuracy : \" + str(np.round(metrics.accuracy_score(Y_reduced_2_test,Y_pred_gbc),3)))"
      ]
    },
    {
      "cell_type": "markdown",
      "metadata": {
        "id": "7M8cbeXsUj_P"
      },
      "source": [
        "- 2.8 Utilizando los hiperparámetros del mejor `árbol de decisión` construido en el numeral `2.2`, entrene un `XGBClassifier` y utilice la validación cruzada afinar solamente dos hiperparámetros: `n_estimators` y `learning_rate`. Compare su rendimiento con los modelos anteriores."
      ]
    },
    {
      "cell_type": "code",
      "execution_count": null,
      "metadata": {
        "id": "H3SjofjK6Jp2",
        "outputId": "56a1882d-01e8-4687-eabe-0047401f597c"
      },
      "outputs": [
        {
          "name": "stdout",
          "output_type": "stream",
          "text": [
            "El mejor n_estimators es: 50\n",
            "El mejor learning rate es: 1\n",
            "CPU times: total: 18min 16s\n",
            "Wall time: 43min 32s\n"
          ]
        }
      ],
      "source": [
        "%%time\n",
        "from xgboost import XGBClassifier\n",
        "\n",
        "n_estimators_XGBC= [10, 20, 50]\n",
        "learning_rate_XGBC= [1, 1e-1]\n",
        "parameters_XGBC = {'n_estimators': n_estimators_XGBC, 'learning_rate':learning_rate_XGBC}\n",
        "\n",
        "Y_reduced_2_train_int = Y_reduced_2_train.astype(int)\n",
        "\n",
        "gridCV_XGBC= GridSearchCV(XGBClassifier(max_depth=best_depth, min_samples_leaf=best_min_samples_leaf, max_leaf_nodes=best_max_leaf_nodes, random_state = 12345), parameters_XGBC, n_jobs = -1)\n",
        "gridCV_XGBC.fit(X_reduced_2_train, Y_reduced_2_train_int)\n",
        "#-----------\n",
        "best_n_estimators_XGBC = gridCV_XGBC.best_params_['n_estimators']\n",
        "best_learning_rate_XGBC = gridCV_XGBC.best_params_['learning_rate']\n",
        "\n",
        "\n",
        "print(\"El mejor n_estimators es: \" + str(best_n_estimators_XGBC))\n",
        "print(\"El mejor learning rate es: \" + str(best_learning_rate_XGBC))"
      ]
    },
    {
      "cell_type": "code",
      "execution_count": null,
      "metadata": {
        "id": "-ZHFGFW36Jp3",
        "outputId": "cea71e75-a7b6-4496-f14f-a91ef80f4c77"
      },
      "outputs": [
        {
          "name": "stdout",
          "output_type": "stream",
          "text": [
            "XGBoost accuracy : 0.967\n",
            "CPU times: total: 17min 48s\n",
            "Wall time: 1min 14s\n"
          ]
        }
      ],
      "source": [
        "%%time\n",
        "# Clasificación por XGB.\n",
        "XGBC_best = XGBClassifier(n_estimators=best_n_estimators_XGBC, learning_rate=best_learning_rate_XGBC, max_depth=best_depth, min_samples_leaf=best_min_samples_leaf, max_leaf_nodes=best_max_leaf_nodes, random_state = 12345)\n",
        "XGBC_best.fit(X_reduced_2_train, Y_reduced_2_train_int)\n",
        "Y_pred_XGBC = XGBC_best.predict(X_reduced_2_test)\n",
        "print( \"XGBoost accuracy : \" + str(np.round(metrics.accuracy_score(Y_reduced_2_test.astype(int),Y_pred_XGBC),3)))"
      ]
    },
    {
      "cell_type": "markdown",
      "metadata": {
        "id": "9o5dBFMnUj_P"
      },
      "source": [
        "- 2.9 Elija `el mejor clasificador` de entre todos los entrenados previamente y argumente su respuesta."
      ]
    },
    {
      "cell_type": "markdown",
      "metadata": {
        "id": "conkUHAp6Jp9"
      },
      "source": [
        "Al evaluar varios de los métodos que se usaron aquí utilizando los datos en distintas formas: por ejemplo en su forma pura (784 features), reducido 4 veces (196 features) y reducido 16 veces (49 features), los tiempos de ejecución y la precisión que se tuvo para cada uno fue muy variada, demórandose el ajuste desde un pocos segundos hasta llegar a decenas de minutos o incluso a veces cientos de minutos. Por ejemplo el clasificador con gradient boosting se demoró demasiado y fue el único método que no se alcanzó a comparar debido a su enorme tiempo de ejecución en el entrenamiento. Con todo esto en cuenta el mejor clasificador para este ejercicio fue el KNN ya que obtuvo un accuracy bastante bueno (97,5%) incluso para los datos reducidos 16 veces, además de que se pudo entrenar en un tiempo bastante corto.\n",
        "\n",
        "Es muy probable que con modelos de votación más complejos, votación, bagging o boosting, se puedan obtener mejores accuracy con los hiperparámetros correctos, ya que aquí por cuestión de tiempo no se pudo probar muchos distintos hiperparámetros usando el GridSearchCV, y aún así se consiguieron buenos accuracy. Pero para este problema en específico el accuracy del clasificador KNN está tan cerca al 100% y es tan rápido, que lo elijo para este problema como el mejor clasificador por su practicidad."
      ]
    }
  ],
  "metadata": {
    "colab": {
      "provenance": []
    },
    "kernelspec": {
      "display_name": "SFC_V2",
      "language": "python",
      "name": "python3"
    },
    "language_info": {
      "codemirror_mode": {
        "name": "ipython",
        "version": 3
      },
      "file_extension": ".py",
      "mimetype": "text/x-python",
      "name": "python",
      "nbconvert_exporter": "python",
      "pygments_lexer": "ipython3",
      "version": "3.11.9"
    }
  },
  "nbformat": 4,
  "nbformat_minor": 0
}