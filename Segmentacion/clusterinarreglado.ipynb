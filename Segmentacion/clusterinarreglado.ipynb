{
 "cells": [
  {
   "cell_type": "code",
   "execution_count": 1,
   "id": "909a0333",
   "metadata": {},
   "outputs": [
    {
     "name": "stdout",
     "output_type": "stream",
     "text": [
      "Pares encontrados: 3\n",
      "2023-08-08 19.38.42-1_seg_001.png: píxeles por cluster = [3629, 3502, 456, 2381]\n",
      "2023-08-08 19.38.42-1_seg_003.png: píxeles por cluster = [7443, 282, 1147, 2428]\n",
      "2023-08-08 19.38.42-1_seg_000.png: píxeles por cluster = [832, 1786, 4985, 2000]\n"
     ]
    }
   ],
   "source": [
    "from pathlib import Path\n",
    "import numpy as np\n",
    "import cv2\n",
    "from skimage import color as skcolor, img_as_ubyte\n",
    "import glob, os\n",
    "\n",
    "def read_rgb_float01(path: str):\n",
    "    \"\"\"cv2.imread -> RGB float32 en [0,1]\"\"\"\n",
    "    arr = cv2.imread(path, cv2.IMREAD_COLOR)\n",
    "    if arr is None:\n",
    "        raise FileNotFoundError(f\"No se puede leer: {path}\")\n",
    "    arr = cv2.cvtColor(arr, cv2.COLOR_BGR2RGB)\n",
    "    return (arr.astype(np.float32) / 255.0)\n",
    "\n",
    "def normalize_img(img: np.ndarray, rimg: np.ndarray, eps: float = 1e-8) -> np.ndarray:\n",
    "    norm = img / (rimg + eps)\n",
    "    norm = np.nan_to_num(norm, nan=0.0, posinf=0.0, neginf=0.0)\n",
    "    return np.clip(norm, 0.0, 1.0).astype(np.float32)\n",
    "\n",
    "def kmeans_lab_segments(rgb_float: np.ndarray, K: int = 4, max_iter: int = 60, attempts: int = 20):\n",
    "    \"\"\"RGB[0,1] -> LAB, k-means en LAB, devuelve labels, centers y la imagen segmentada en LAB\"\"\"\n",
    "    lab = skcolor.rgb2lab(rgb_float)             # float64\n",
    "    h, w, _ = lab.shape\n",
    "    samples = lab.reshape((-1, 3)).astype(np.float32)\n",
    "\n",
    "    criteria = (cv2.TERM_CRITERIA_EPS + cv2.TERM_CRITERIA_MAX_ITER, max_iter, 1.0)\n",
    "    compactness, labels, centers = cv2.kmeans(samples, K, None, criteria, attempts, cv2.KMEANS_RANDOM_CENTERS)\n",
    "    labels = labels.flatten()\n",
    "    segmented_lab = centers[labels].reshape((h, w, 3))  # Ojo: seguimos en LAB (float32)\n",
    "    return labels, centers, segmented_lab\n",
    "\n",
    "# --- Rutas ---\n",
    "root = \"./img\"  # ajusta si lo necesitas\n",
    "pairs = []\n",
    "for ref_path in Path(root).rglob(\"*_ref.png\"):\n",
    "    img_path = Path(str(ref_path).replace(\"_ref.png\", \".png\"))\n",
    "    if img_path.exists():\n",
    "        pairs.append((img_path, ref_path))\n",
    "\n",
    "print(f\"Pares encontrados: {len(pairs)}\")\n",
    "\n",
    "# --- Proceso ---\n",
    "for (img_path, ref_path) in pairs:\n",
    "    img  = read_rgb_float01(str(img_path))\n",
    "    rimg = read_rgb_float01(str(ref_path))\n",
    "    norm_img = normalize_img(img, rimg)\n",
    "\n",
    "    labels, centers, seg_lab = kmeans_lab_segments(norm_img, K=4)\n",
    "    seg_rgb = skcolor.lab2rgb(seg_lab)  # <- para visualizar en RGB [0,1]\n",
    "\n",
    "    # Conteo de píxeles por clúster:\n",
    "    counts = np.bincount(labels, minlength=centers.shape[0])\n",
    "    print(f\"{img_path.name}: píxeles por cluster = {counts.tolist()}\")\n",
    "\n",
    "    # Guardar resultado:\n",
    "    out_path = Path(root) / f\"{img_path.stem}_seg.png\"\n",
    "    cv2.imwrite(str(out_path), cv2.cvtColor(img_as_ubyte(seg_rgb), cv2.COLOR_RGB2BGR))\n"
   ]
  },
  {
   "cell_type": "code",
   "execution_count": null,
   "id": "4d83f622",
   "metadata": {},
   "outputs": [],
   "source": []
  }
 ],
 "metadata": {
  "kernelspec": {
   "display_name": "Python 3 (ipykernel)",
   "language": "python",
   "name": "python3"
  },
  "language_info": {
   "codemirror_mode": {
    "name": "ipython",
    "version": 3
   },
   "file_extension": ".py",
   "mimetype": "text/x-python",
   "name": "python",
   "nbconvert_exporter": "python",
   "pygments_lexer": "ipython3",
   "version": "3.11.5"
  }
 },
 "nbformat": 4,
 "nbformat_minor": 5
}
