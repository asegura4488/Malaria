{
 "cells": [
  {
   "cell_type": "code",
   "execution_count": 32,
   "id": "7678b382",
   "metadata": {},
   "outputs": [],
   "source": [
    "import cv2\n",
    "import numpy as np\n",
    "import numpy.typing as npt\n",
    "from pathlib import Path\n",
    "from skimage import color as skcolor\n",
    "import matplotlib.pyplot as plt"
   ]
  },
  {
   "cell_type": "code",
   "execution_count": 33,
   "id": "48defc34",
   "metadata": {},
   "outputs": [],
   "source": [
    "def normalize_img(\n",
    "    img: npt.NDArray[np.float64], rimg: npt.NDArray[np.float64]\n",
    ") -> npt.NDArray[np.float64]:\n",
    "    \"\"\"normalize an image according to a reference image\"\"\"\n",
    "    norm_img: npt.NDArray[np.float64] = np.zeros_like(img, dtype=np.float64)\n",
    "    for c in range(3):\n",
    "        # norm_img[:, :, c] = img[:, :, c] / rimg[:, :, c]\n",
    "        norm_img[:, :, c] = np.divide(img[:, :, c], rimg[:, :, c])\n",
    "        norm_img[:, :, c] = np.nan_to_num(norm_img[:, :, c], nan=0)\n",
    "\n",
    "    norm_img = np.clip(norm_img, 0, 1)\n",
    "    return norm_img"
   ]
  },
  {
   "cell_type": "code",
   "execution_count": 34,
   "id": "3e83b6b4",
   "metadata": {},
   "outputs": [
    {
     "name": "stdout",
     "output_type": "stream",
     "text": [
      "[[ 85  15 249]\n",
      " [ 72  23 234]\n",
      " [ 88  13 253]]\n"
     ]
    },
    {
     "name": "stderr",
     "output_type": "stream",
     "text": [
      "/tmp/ipykernel_4412/2577486741.py:8: RuntimeWarning: invalid value encountered in divide\n",
      "  norm_img[:, :, c] = np.divide(img[:, :, c], rimg[:, :, c])\n"
     ]
    },
    {
     "ename": "IndexError",
     "evalue": "index 89 is out of bounds for axis 0 with size 89",
     "output_type": "error",
     "traceback": [
      "\u001b[0;31m---------------------------------------------------------------------------\u001b[0m",
      "\u001b[0;31mIndexError\u001b[0m                                Traceback (most recent call last)",
      "Cell \u001b[0;32mIn[34], line 66\u001b[0m\n\u001b[1;32m     64\u001b[0m result_image \u001b[38;5;241m=\u001b[39m np\u001b[38;5;241m.\u001b[39mzeros_like(lab_image)\n\u001b[1;32m     65\u001b[0m \u001b[38;5;28;01mfor\u001b[39;00m f \u001b[38;5;129;01min\u001b[39;00m \u001b[38;5;28mrange\u001b[39m(lab_image\u001b[38;5;241m.\u001b[39mshape[\u001b[38;5;241m0\u001b[39m]):\n\u001b[0;32m---> 66\u001b[0m     \u001b[38;5;28;01mif\u001b[39;00m np\u001b[38;5;241m.\u001b[39mallclose(segmented_image[f],centers[k]):\n\u001b[1;32m     67\u001b[0m         result_image[f] \u001b[38;5;241m=\u001b[39m lab_image[f]\n\u001b[1;32m     69\u001b[0m npixels\u001b[38;5;241m.\u001b[39mappend(np\u001b[38;5;241m.\u001b[39mcount_nonzero(result_image))\n",
      "\u001b[0;31mIndexError\u001b[0m: index 89 is out of bounds for axis 0 with size 89"
     ]
    },
    {
     "data": {
      "image/png": "[encoded data removed]",
      "text/plain": [
       "<Figure size 640x480 with 1 Axes>"
      ]
     },
     "metadata": {},
     "output_type": "display_data"
    }
   ],
   "source": [
    "src_dir = './img'\n",
    "folder = Path(src_dir)\n",
    "\n",
    "# files\n",
    "files = folder.glob('*_ref.png')\n",
    "\n",
    "for i in list(files):\n",
    "    \n",
    "    image_path = str(i).replace('_ref',\"\")\n",
    "    #print(image_path)\n",
    "    # img\n",
    "    img = cv2.cvtColor(cv2.imread(image_path), cv2.COLOR_BGR2RGB)\n",
    "    # Reference image    \n",
    "    rimg = cv2.cvtColor(cv2.imread(str(i)), cv2.COLOR_BGR2RGB)\n",
    "    \n",
    "    # Normalizacion\n",
    "    norm_img = normalize_img(img,rimg)\n",
    "    \n",
    "    # rgbtolab\n",
    "    lab_image = skcolor.rgb2lab(norm_img)\n",
    "    lch_image = skcolor.lab2lch(lab_image)\n",
    "    \n",
    "    # Plotting\n",
    "    #plt.imshow(norm_img)\n",
    "   # plt.imshow(lab_image)\n",
    "   # plt.imshow(lch_image)\n",
    "    \n",
    "    # Redimensionar para clustering\n",
    "    original_shape = lab_image.shape\n",
    "    lab_image = lab_image.reshape((-1,3))\n",
    "    lch_image = lch_image.reshape((-1,3))\n",
    "    \n",
    "    lab_image = np.float32(lab_image)\n",
    "    lch_image = np.float32(lch_image)\n",
    "    \n",
    "    # Clustering k-means\n",
    "    stop_criteria = (cv2.TERM_CRITERIA_EPS + cv2.TERM_CRITERIA_MAX_ITER, 30, 1.0)\n",
    "    number_of_attempts = 30\n",
    "    centroid_initialization_strategy = cv2.KMEANS_RANDOM_CENTERS\n",
    "    # Number of clusters\n",
    "    K = 4\n",
    "    _, labels, centers = cv2.kmeans(lab_image, K, None, stop_criteria, number_of_attempts, centroid_initialization_strategy)\n",
    "        \n",
    "    centers = np.uint8(centers)\n",
    "    \n",
    "    segmented_data = centers[labels.flatten()]\n",
    "    \n",
    "    #print(labels.flatten())\n",
    "    \n",
    "    segmented_image = segmented_data.reshape(original_shape)\n",
    "    \n",
    "    plt.imshow(cv2.cvtColor(segmented_image, cv2.COLOR_BGR2RGB))\n",
    "    #plt.axis('off') \n",
    "    \n",
    "    # Quitar los ceros\n",
    "    centers = centers[~np.all(centers == 0, axis=1)]\n",
    "    imagenes = []\n",
    "    npixels = []\n",
    "    \n",
    "    print(centers)\n",
    "    \n",
    "    for k in range(centers.shape[0]):\n",
    "        \n",
    "        result_image = np.zeros_like(lab_image)\n",
    "        for f in range(lab_image.shape[0]):\n",
    "            if np.allclose(segmented_image[f],centers[k]):\n",
    "                result_image[f] = lab_image[f]\n",
    "                \n",
    "        npixels.append(np.count_nonzero(result_image))\n",
    "        imagenes.append(result_image)\n",
    "    \n",
    "    print(npixels)\n",
    "    indices_ordenados = sorted(range(len(npixels)), key=lambda ix: npixels[ix])    "
   ]
  },
  {
   "cell_type": "code",
   "execution_count": null,
   "id": "6f22e5db",
   "metadata": {},
   "outputs": [],
   "source": []
  },
  {
   "cell_type": "code",
   "execution_count": null,
   "id": "1e852ec0",
   "metadata": {},
   "outputs": [],
   "source": []
  },
  {
   "cell_type": "code",
   "execution_count": 72,
   "id": "8144eb07",
   "metadata": {},
   "outputs": [
    {
     "name": "stderr",
     "output_type": "stream",
     "text": [
      "Clipping input data to the valid range for imshow with RGB data ([0..1] for floats or [0..255] for integers).\n"
     ]
    },
    {
     "data": {
      "text/plain": [
       "<matplotlib.image.AxesImage at 0x72bd0876df10>"
      ]
     },
     "execution_count": 72,
     "metadata": {},
     "output_type": "execute_result"
    },
    {
     "data": {
      "image/png": "[encoded data removed]",
      "text/plain": [
       "<Figure size 640x480 with 1 Axes>"
      ]
     },
     "metadata": {},
     "output_type": "display_data"
    }
   ],
   "source": [
    "plt.imshow(cv2.cvtColor(segmented_image, cv2.COLOR_BGR2RGB)) "
   ]
  },
  {
   "cell_type": "raw",
   "id": "de798d64",
   "metadata": {},
   "source": [
    "df"
   ]
  },
  {
   "cell_type": "code",
   "execution_count": null,
   "id": "3938c314",
   "metadata": {},
   "outputs": [],
   "source": []
  },
  {
   "cell_type": "code",
   "execution_count": null,
   "id": "297fb3f3",
   "metadata": {},
   "outputs": [],
   "source": []
  },
  {
   "cell_type": "code",
   "execution_count": null,
   "id": "7af4c8d9",
   "metadata": {},
   "outputs": [],
   "source": []
  }
 ],
 "metadata": {
  "kernelspec": {
   "display_name": "Python 3 (ipykernel)",
   "language": "python",
   "name": "python3"
  },
  "language_info": {
   "codemirror_mode": {
    "name": "ipython",
    "version": 3
   },
   "file_extension": ".py",
   "mimetype": "text/x-python",
   "name": "python",
   "nbconvert_exporter": "python",
   "pygments_lexer": "ipython3",
   "version": "3.11.5"
  }
 },
 "nbformat": 4,
 "nbformat_minor": 5
}
